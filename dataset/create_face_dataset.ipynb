{
 "cells": [
  {
   "cell_type": "markdown",
   "metadata": {},
   "source": [
    "# Create a dataset of faces dividing them in fake and real"
   ]
  },
  {
   "cell_type": "markdown",
   "metadata": {},
   "source": [
    "### Libraries, constants and pre-trained MTCNN"
   ]
  },
  {
   "cell_type": "markdown",
   "metadata": {},
   "source": [
    "Install FaceNet-PyTorch if it's not already installed (it includes the pre-trained MTCNN model):"
   ]
  },
  {
   "cell_type": "code",
   "execution_count": 1,
   "metadata": {},
   "outputs": [
    {
     "name": "stdout",
     "output_type": "stream",
     "text": [
      "Requirement already satisfied: facenet-pytorch in /Users/aaron/miniforge3/envs/torch4arm/lib/python3.9/site-packages (2.5.2)\n",
      "Requirement already satisfied: Pillow in /Users/aaron/miniforge3/envs/torch4arm/lib/python3.9/site-packages (8.4.0)\n",
      "Requirement already satisfied: pandas in /Users/aaron/miniforge3/envs/torch4arm/lib/python3.9/site-packages (1.3.5)\n",
      "Requirement already satisfied: requests in /Users/aaron/miniforge3/envs/torch4arm/lib/python3.9/site-packages (from facenet-pytorch) (2.26.0)\n",
      "Requirement already satisfied: numpy in /Users/aaron/miniforge3/envs/torch4arm/lib/python3.9/site-packages (from facenet-pytorch) (1.22.0)\n",
      "Requirement already satisfied: torchvision in /Users/aaron/miniforge3/envs/torch4arm/lib/python3.9/site-packages (from facenet-pytorch) (0.10.0)\n",
      "Requirement already satisfied: python-dateutil>=2.7.3 in /Users/aaron/miniforge3/envs/torch4arm/lib/python3.9/site-packages (from pandas) (2.8.2)\n",
      "Requirement already satisfied: pytz>=2017.3 in /Users/aaron/miniforge3/envs/torch4arm/lib/python3.9/site-packages (from pandas) (2021.3)\n",
      "Requirement already satisfied: six>=1.5 in /Users/aaron/miniforge3/envs/torch4arm/lib/python3.9/site-packages (from python-dateutil>=2.7.3->pandas) (1.16.0)\n",
      "Requirement already satisfied: charset-normalizer~=2.0.0 in /Users/aaron/miniforge3/envs/torch4arm/lib/python3.9/site-packages (from requests->facenet-pytorch) (2.0.8)\n",
      "Requirement already satisfied: certifi>=2017.4.17 in /Users/aaron/miniforge3/envs/torch4arm/lib/python3.9/site-packages (from requests->facenet-pytorch) (2021.10.8)\n",
      "Requirement already satisfied: urllib3<1.27,>=1.21.1 in /Users/aaron/miniforge3/envs/torch4arm/lib/python3.9/site-packages (from requests->facenet-pytorch) (1.26.7)\n",
      "Requirement already satisfied: idna<4,>=2.5 in /Users/aaron/miniforge3/envs/torch4arm/lib/python3.9/site-packages (from requests->facenet-pytorch) (3.1)\n",
      "Requirement already satisfied: torch in /Users/aaron/miniforge3/envs/torch4arm/lib/python3.9/site-packages (from torchvision->facenet-pytorch) (1.11.0a0+gitbfe5ad2)\n",
      "Requirement already satisfied: typing_extensions in /Users/aaron/miniforge3/envs/torch4arm/lib/python3.9/site-packages (from torch->torchvision->facenet-pytorch) (4.0.1)\n"
     ]
    }
   ],
   "source": [
    "!pip install facenet-pytorch Pillow pandas"
   ]
  },
  {
   "cell_type": "markdown",
   "metadata": {},
   "source": [
    "Import the necessary libraries:"
   ]
  },
  {
   "cell_type": "code",
   "execution_count": 2,
   "metadata": {},
   "outputs": [],
   "source": [
    "import numpy as np\n",
    "import torch\n",
    "import torchvision\n",
    "import pandas as pd\n",
    "import matplotlib.pyplot as plt\n",
    "import os \n",
    "import cv2\n",
    "from random import randint\n",
    "from PIL import Image"
   ]
  },
  {
   "cell_type": "code",
   "execution_count": 3,
   "metadata": {},
   "outputs": [
    {
     "name": "stdout",
     "output_type": "stream",
     "text": [
      "Running on device: cpu\n"
     ]
    }
   ],
   "source": [
    "device = 'cuda:0' if torch.cuda.is_available() else 'cpu'\n",
    "print(f'Running on device: {device}')"
   ]
  },
  {
   "cell_type": "markdown",
   "metadata": {},
   "source": [
    "Import the pre-trained MTCNN:"
   ]
  },
  {
   "cell_type": "markdown",
   "metadata": {},
   "source": [
    "[Guide on how to use MTCNN](https://www.kaggle.com/code/timesler/guide-to-mtcnn-in-facenet-pytorch/notebook)"
   ]
  },
  {
   "cell_type": "code",
   "execution_count": 4,
   "metadata": {},
   "outputs": [],
   "source": [
    "from facenet_pytorch import MTCNN"
   ]
  },
  {
   "cell_type": "markdown",
   "metadata": {},
   "source": [
    "Constants:"
   ]
  },
  {
   "cell_type": "code",
   "execution_count": 5,
   "metadata": {},
   "outputs": [],
   "source": [
    "from constants import ORIGINAL_VIDEOS_FOLDER, FAKE_VIDEOS_FOLDER, FACES_FOLDER, FACES_REAL, FACES_FAKE"
   ]
  },
  {
   "cell_type": "markdown",
   "metadata": {},
   "source": [
    "Lists of fake and real videos:"
   ]
  },
  {
   "cell_type": "code",
   "execution_count": 6,
   "metadata": {},
   "outputs": [],
   "source": [
    "ORIGINAL_VIDEOS = os.listdir(ORIGINAL_VIDEOS_FOLDER)\n",
    "FAKE_VIDEOS = os.listdir(FAKE_VIDEOS_FOLDER)"
   ]
  },
  {
   "cell_type": "markdown",
   "metadata": {},
   "source": [
    "### Plot some examples"
   ]
  },
  {
   "cell_type": "markdown",
   "metadata": {},
   "source": [
    "post_process avoids image normalization to be able to plot the images:"
   ]
  },
  {
   "cell_type": "code",
   "execution_count": 7,
   "metadata": {},
   "outputs": [],
   "source": [
    "# Load the MTCNN in evaluation mode\n",
    "# -> Evaluation deactivates Dropout layers, which speeds up the inference\n",
    "mtcnn = MTCNN(select_largest=False, post_process=False, device=device).eval()"
   ]
  },
  {
   "cell_type": "code",
   "execution_count": 12,
   "metadata": {},
   "outputs": [],
   "source": [
    "def plot_example(num_samples=3):\n",
    "    \"\"\"Plot the first frame of fake video and the extracted face\"\"\"\n",
    "    _, ax = plt.subplots(nrows=num_samples, ncols=2, figsize=(18, 10))\n",
    "    \n",
    "    for i in range(num_samples):\n",
    "        video_idx = randint(0, len(FAKE_VIDEOS)-1)\n",
    "\n",
    "        # Fake video\n",
    "        fake_video = cv2.VideoCapture(\n",
    "            os.path.join(FAKE_VIDEOS_FOLDER, FAKE_VIDEOS[video_idx]\n",
    "        ))\n",
    "        # Get the first frame\n",
    "        _, fake_frame = fake_video.read()\n",
    "        # BGR -> RGB\n",
    "        fake_frame = cv2.cvtColor(fake_frame, cv2.COLOR_BGR2RGB)\n",
    "\n",
    "        # Convert the image (numpy array) to a Pillow Image\n",
    "        frame = Image.fromarray(fake_frame)\n",
    "        face = mtcnn(frame)\n",
    "\n",
    "        # After being processed by MTCNN, the face has the shape: (CHANNELS, HEIGHT, WIDTH)\n",
    "        # we have to change the change so that it has the shape (HEIGHT, WIDTH, CHANNELS)\n",
    "        face = face.permute(1, 2, 0)\n",
    "\n",
    "        # Remember that the output of the model is a tensor where the pixel values are float values\n",
    "        # To be able to plot the face, we have to convert it into a numpy array of integer values\n",
    "        #\n",
    "        # If the image is in the GPU, we also have to move it to the CPU\n",
    "        face = face.cpu().detach().int().numpy()\n",
    "\n",
    "        # Plot the frames\n",
    "        ax[i, 0].imshow(fake_frame)\n",
    "        ax[i, 1].imshow(face)\n",
    "        ax[i, 0].set_title(\"Fake (full image)\")\n",
    "        ax[i, 1].set_title(\"Fake (face)\")\n",
    "        ax[i, 0].axis(\"off\")\n",
    "        ax[i, 1].axis(\"off\")\n",
    "    \n",
    "    plt.tight_layout()\n",
    "    plt.show()"
   ]
  },
  {
   "cell_type": "code",
   "execution_count": 15,
   "metadata": {},
   "outputs": [
    {
     "ename": "RuntimeError",
     "evalue": "Couldn't load custom C++ ops. This can happen if your PyTorch and torchvision versions are incompatible, or if you had errors while compiling torchvision from source. For further information on the compatible versions, check https://github.com/pytorch/vision#installation for the compatibility matrix. Please check your PyTorch version with torch.__version__ and your torchvision version with torchvision.__version__ and verify if they are compatible, and if not please reinstall torchvision so that it matches your PyTorch install.",
     "output_type": "error",
     "traceback": [
      "\u001b[0;31m---------------------------------------------------------------------------\u001b[0m",
      "\u001b[0;31mRuntimeError\u001b[0m                              Traceback (most recent call last)",
      "\u001b[1;32m/Users/aaron/Documents/github/deepfake-detection/dataset/create_face_dataset.ipynb Cell 19'\u001b[0m in \u001b[0;36m<module>\u001b[0;34m\u001b[0m\n\u001b[0;32m----> <a href='vscode-notebook-cell:/Users/aaron/Documents/github/deepfake-detection/dataset/create_face_dataset.ipynb#ch0000018?line=0'>1</a>\u001b[0m plot_example()\n",
      "\u001b[1;32m/Users/aaron/Documents/github/deepfake-detection/dataset/create_face_dataset.ipynb Cell 18'\u001b[0m in \u001b[0;36mplot_example\u001b[0;34m(num_samples)\u001b[0m\n\u001b[1;32m     <a href='vscode-notebook-cell:/Users/aaron/Documents/github/deepfake-detection/dataset/create_face_dataset.ipynb#ch0000017?line=16'>17</a>\u001b[0m \u001b[39m# Convert the image (numpy array) to a Pillow Image\u001b[39;00m\n\u001b[1;32m     <a href='vscode-notebook-cell:/Users/aaron/Documents/github/deepfake-detection/dataset/create_face_dataset.ipynb#ch0000017?line=17'>18</a>\u001b[0m frame \u001b[39m=\u001b[39m Image\u001b[39m.\u001b[39mfromarray(fake_frame)\n\u001b[0;32m---> <a href='vscode-notebook-cell:/Users/aaron/Documents/github/deepfake-detection/dataset/create_face_dataset.ipynb#ch0000017?line=18'>19</a>\u001b[0m face \u001b[39m=\u001b[39m mtcnn(frame)\n\u001b[1;32m     <a href='vscode-notebook-cell:/Users/aaron/Documents/github/deepfake-detection/dataset/create_face_dataset.ipynb#ch0000017?line=20'>21</a>\u001b[0m \u001b[39m# After being processed by MTCNN, the face has the shape: (CHANNELS, HEIGHT, WIDTH)\u001b[39;00m\n\u001b[1;32m     <a href='vscode-notebook-cell:/Users/aaron/Documents/github/deepfake-detection/dataset/create_face_dataset.ipynb#ch0000017?line=21'>22</a>\u001b[0m \u001b[39m# we have to change the change so that it has the shape (HEIGHT, WIDTH, CHANNELS)\u001b[39;00m\n\u001b[1;32m     <a href='vscode-notebook-cell:/Users/aaron/Documents/github/deepfake-detection/dataset/create_face_dataset.ipynb#ch0000017?line=22'>23</a>\u001b[0m face \u001b[39m=\u001b[39m face\u001b[39m.\u001b[39mpermute(\u001b[39m1\u001b[39m, \u001b[39m2\u001b[39m, \u001b[39m0\u001b[39m)\n",
      "File \u001b[0;32m~/miniforge3/envs/torch4arm/lib/python3.9/site-packages/torch/nn/modules/module.py:1102\u001b[0m, in \u001b[0;36mModule._call_impl\u001b[0;34m(self, *input, **kwargs)\u001b[0m\n\u001b[1;32m   <a href='file:///Users/aaron/miniforge3/envs/torch4arm/lib/python3.9/site-packages/torch/nn/modules/module.py?line=1097'>1098</a>\u001b[0m \u001b[39m# If we don't have any hooks, we want to skip the rest of the logic in\u001b[39;00m\n\u001b[1;32m   <a href='file:///Users/aaron/miniforge3/envs/torch4arm/lib/python3.9/site-packages/torch/nn/modules/module.py?line=1098'>1099</a>\u001b[0m \u001b[39m# this function, and just call forward.\u001b[39;00m\n\u001b[1;32m   <a href='file:///Users/aaron/miniforge3/envs/torch4arm/lib/python3.9/site-packages/torch/nn/modules/module.py?line=1099'>1100</a>\u001b[0m \u001b[39mif\u001b[39;00m \u001b[39mnot\u001b[39;00m (\u001b[39mself\u001b[39m\u001b[39m.\u001b[39m_backward_hooks \u001b[39mor\u001b[39;00m \u001b[39mself\u001b[39m\u001b[39m.\u001b[39m_forward_hooks \u001b[39mor\u001b[39;00m \u001b[39mself\u001b[39m\u001b[39m.\u001b[39m_forward_pre_hooks \u001b[39mor\u001b[39;00m _global_backward_hooks\n\u001b[1;32m   <a href='file:///Users/aaron/miniforge3/envs/torch4arm/lib/python3.9/site-packages/torch/nn/modules/module.py?line=1100'>1101</a>\u001b[0m         \u001b[39mor\u001b[39;00m _global_forward_hooks \u001b[39mor\u001b[39;00m _global_forward_pre_hooks):\n\u001b[0;32m-> <a href='file:///Users/aaron/miniforge3/envs/torch4arm/lib/python3.9/site-packages/torch/nn/modules/module.py?line=1101'>1102</a>\u001b[0m     \u001b[39mreturn\u001b[39;00m forward_call(\u001b[39m*\u001b[39;49m\u001b[39minput\u001b[39;49m, \u001b[39m*\u001b[39;49m\u001b[39m*\u001b[39;49mkwargs)\n\u001b[1;32m   <a href='file:///Users/aaron/miniforge3/envs/torch4arm/lib/python3.9/site-packages/torch/nn/modules/module.py?line=1102'>1103</a>\u001b[0m \u001b[39m# Do not call functions when jit is used\u001b[39;00m\n\u001b[1;32m   <a href='file:///Users/aaron/miniforge3/envs/torch4arm/lib/python3.9/site-packages/torch/nn/modules/module.py?line=1103'>1104</a>\u001b[0m full_backward_hooks, non_full_backward_hooks \u001b[39m=\u001b[39m [], []\n",
      "File \u001b[0;32m~/miniforge3/envs/torch4arm/lib/python3.9/site-packages/facenet_pytorch/models/mtcnn.py:258\u001b[0m, in \u001b[0;36mMTCNN.forward\u001b[0;34m(self, img, save_path, return_prob)\u001b[0m\n\u001b[1;32m    <a href='file:///Users/aaron/miniforge3/envs/torch4arm/lib/python3.9/site-packages/facenet_pytorch/models/mtcnn.py?line=226'>227</a>\u001b[0m \u001b[39m\"\"\"Run MTCNN face detection on a PIL image or numpy array. This method performs both\u001b[39;00m\n\u001b[1;32m    <a href='file:///Users/aaron/miniforge3/envs/torch4arm/lib/python3.9/site-packages/facenet_pytorch/models/mtcnn.py?line=227'>228</a>\u001b[0m \u001b[39mdetection and extraction of faces, returning tensors representing detected faces rather\u001b[39;00m\n\u001b[1;32m    <a href='file:///Users/aaron/miniforge3/envs/torch4arm/lib/python3.9/site-packages/facenet_pytorch/models/mtcnn.py?line=228'>229</a>\u001b[0m \u001b[39mthan the bounding boxes. To access bounding boxes, see the MTCNN.detect() method below.\u001b[39;00m\n\u001b[0;32m   (...)\u001b[0m\n\u001b[1;32m    <a href='file:///Users/aaron/miniforge3/envs/torch4arm/lib/python3.9/site-packages/facenet_pytorch/models/mtcnn.py?line=253'>254</a>\u001b[0m \u001b[39m>>> face_tensor, prob = mtcnn(img, save_path='face.png', return_prob=True)\u001b[39;00m\n\u001b[1;32m    <a href='file:///Users/aaron/miniforge3/envs/torch4arm/lib/python3.9/site-packages/facenet_pytorch/models/mtcnn.py?line=254'>255</a>\u001b[0m \u001b[39m\"\"\"\u001b[39;00m\n\u001b[1;32m    <a href='file:///Users/aaron/miniforge3/envs/torch4arm/lib/python3.9/site-packages/facenet_pytorch/models/mtcnn.py?line=256'>257</a>\u001b[0m \u001b[39m# Detect faces\u001b[39;00m\n\u001b[0;32m--> <a href='file:///Users/aaron/miniforge3/envs/torch4arm/lib/python3.9/site-packages/facenet_pytorch/models/mtcnn.py?line=257'>258</a>\u001b[0m batch_boxes, batch_probs, batch_points \u001b[39m=\u001b[39m \u001b[39mself\u001b[39;49m\u001b[39m.\u001b[39;49mdetect(img, landmarks\u001b[39m=\u001b[39;49m\u001b[39mTrue\u001b[39;49;00m)\n\u001b[1;32m    <a href='file:///Users/aaron/miniforge3/envs/torch4arm/lib/python3.9/site-packages/facenet_pytorch/models/mtcnn.py?line=258'>259</a>\u001b[0m \u001b[39m# Select faces\u001b[39;00m\n\u001b[1;32m    <a href='file:///Users/aaron/miniforge3/envs/torch4arm/lib/python3.9/site-packages/facenet_pytorch/models/mtcnn.py?line=259'>260</a>\u001b[0m \u001b[39mif\u001b[39;00m \u001b[39mnot\u001b[39;00m \u001b[39mself\u001b[39m\u001b[39m.\u001b[39mkeep_all:\n",
      "File \u001b[0;32m~/miniforge3/envs/torch4arm/lib/python3.9/site-packages/facenet_pytorch/models/mtcnn.py:313\u001b[0m, in \u001b[0;36mMTCNN.detect\u001b[0;34m(self, img, landmarks)\u001b[0m\n\u001b[1;32m    <a href='file:///Users/aaron/miniforge3/envs/torch4arm/lib/python3.9/site-packages/facenet_pytorch/models/mtcnn.py?line=272'>273</a>\u001b[0m \u001b[39m\"\"\"Detect all faces in PIL image and return bounding boxes and optional facial landmarks.\u001b[39;00m\n\u001b[1;32m    <a href='file:///Users/aaron/miniforge3/envs/torch4arm/lib/python3.9/site-packages/facenet_pytorch/models/mtcnn.py?line=273'>274</a>\u001b[0m \n\u001b[1;32m    <a href='file:///Users/aaron/miniforge3/envs/torch4arm/lib/python3.9/site-packages/facenet_pytorch/models/mtcnn.py?line=274'>275</a>\u001b[0m \u001b[39mThis method is used by the forward method and is also useful for face detection tasks\u001b[39;00m\n\u001b[0;32m   (...)\u001b[0m\n\u001b[1;32m    <a href='file:///Users/aaron/miniforge3/envs/torch4arm/lib/python3.9/site-packages/facenet_pytorch/models/mtcnn.py?line=308'>309</a>\u001b[0m \u001b[39m>>> img_draw.save('annotated_faces.png')\u001b[39;00m\n\u001b[1;32m    <a href='file:///Users/aaron/miniforge3/envs/torch4arm/lib/python3.9/site-packages/facenet_pytorch/models/mtcnn.py?line=309'>310</a>\u001b[0m \u001b[39m\"\"\"\u001b[39;00m\n\u001b[1;32m    <a href='file:///Users/aaron/miniforge3/envs/torch4arm/lib/python3.9/site-packages/facenet_pytorch/models/mtcnn.py?line=311'>312</a>\u001b[0m \u001b[39mwith\u001b[39;00m torch\u001b[39m.\u001b[39mno_grad():\n\u001b[0;32m--> <a href='file:///Users/aaron/miniforge3/envs/torch4arm/lib/python3.9/site-packages/facenet_pytorch/models/mtcnn.py?line=312'>313</a>\u001b[0m     batch_boxes, batch_points \u001b[39m=\u001b[39m detect_face(\n\u001b[1;32m    <a href='file:///Users/aaron/miniforge3/envs/torch4arm/lib/python3.9/site-packages/facenet_pytorch/models/mtcnn.py?line=313'>314</a>\u001b[0m         img, \u001b[39mself\u001b[39;49m\u001b[39m.\u001b[39;49mmin_face_size,\n\u001b[1;32m    <a href='file:///Users/aaron/miniforge3/envs/torch4arm/lib/python3.9/site-packages/facenet_pytorch/models/mtcnn.py?line=314'>315</a>\u001b[0m         \u001b[39mself\u001b[39;49m\u001b[39m.\u001b[39;49mpnet, \u001b[39mself\u001b[39;49m\u001b[39m.\u001b[39;49mrnet, \u001b[39mself\u001b[39;49m\u001b[39m.\u001b[39;49monet,\n\u001b[1;32m    <a href='file:///Users/aaron/miniforge3/envs/torch4arm/lib/python3.9/site-packages/facenet_pytorch/models/mtcnn.py?line=315'>316</a>\u001b[0m         \u001b[39mself\u001b[39;49m\u001b[39m.\u001b[39;49mthresholds, \u001b[39mself\u001b[39;49m\u001b[39m.\u001b[39;49mfactor,\n\u001b[1;32m    <a href='file:///Users/aaron/miniforge3/envs/torch4arm/lib/python3.9/site-packages/facenet_pytorch/models/mtcnn.py?line=316'>317</a>\u001b[0m         \u001b[39mself\u001b[39;49m\u001b[39m.\u001b[39;49mdevice\n\u001b[1;32m    <a href='file:///Users/aaron/miniforge3/envs/torch4arm/lib/python3.9/site-packages/facenet_pytorch/models/mtcnn.py?line=317'>318</a>\u001b[0m     )\n\u001b[1;32m    <a href='file:///Users/aaron/miniforge3/envs/torch4arm/lib/python3.9/site-packages/facenet_pytorch/models/mtcnn.py?line=319'>320</a>\u001b[0m boxes, probs, points \u001b[39m=\u001b[39m [], [], []\n\u001b[1;32m    <a href='file:///Users/aaron/miniforge3/envs/torch4arm/lib/python3.9/site-packages/facenet_pytorch/models/mtcnn.py?line=320'>321</a>\u001b[0m \u001b[39mfor\u001b[39;00m box, point \u001b[39min\u001b[39;00m \u001b[39mzip\u001b[39m(batch_boxes, batch_points):\n",
      "File \u001b[0;32m~/miniforge3/envs/torch4arm/lib/python3.9/site-packages/facenet_pytorch/models/utils/detect_face.py:79\u001b[0m, in \u001b[0;36mdetect_face\u001b[0;34m(imgs, minsize, pnet, rnet, onet, threshold, factor, device)\u001b[0m\n\u001b[1;32m     <a href='file:///Users/aaron/miniforge3/envs/torch4arm/lib/python3.9/site-packages/facenet_pytorch/models/utils/detect_face.py?line=75'>76</a>\u001b[0m boxes\u001b[39m.\u001b[39mappend(boxes_scale)\n\u001b[1;32m     <a href='file:///Users/aaron/miniforge3/envs/torch4arm/lib/python3.9/site-packages/facenet_pytorch/models/utils/detect_face.py?line=76'>77</a>\u001b[0m image_inds\u001b[39m.\u001b[39mappend(image_inds_scale)\n\u001b[0;32m---> <a href='file:///Users/aaron/miniforge3/envs/torch4arm/lib/python3.9/site-packages/facenet_pytorch/models/utils/detect_face.py?line=78'>79</a>\u001b[0m pick \u001b[39m=\u001b[39m batched_nms(boxes_scale[:, :\u001b[39m4\u001b[39;49m], boxes_scale[:, \u001b[39m4\u001b[39;49m], image_inds_scale, \u001b[39m0.5\u001b[39;49m)\n\u001b[1;32m     <a href='file:///Users/aaron/miniforge3/envs/torch4arm/lib/python3.9/site-packages/facenet_pytorch/models/utils/detect_face.py?line=79'>80</a>\u001b[0m scale_picks\u001b[39m.\u001b[39mappend(pick \u001b[39m+\u001b[39m offset)\n\u001b[1;32m     <a href='file:///Users/aaron/miniforge3/envs/torch4arm/lib/python3.9/site-packages/facenet_pytorch/models/utils/detect_face.py?line=80'>81</a>\u001b[0m offset \u001b[39m+\u001b[39m\u001b[39m=\u001b[39m boxes_scale\u001b[39m.\u001b[39mshape[\u001b[39m0\u001b[39m]\n",
      "File \u001b[0;32m~/miniforge3/envs/torch4arm/lib/python3.9/site-packages/torchvision/ops/boxes.py:68\u001b[0m, in \u001b[0;36mbatched_nms\u001b[0;34m(boxes, scores, idxs, iou_threshold)\u001b[0m\n\u001b[1;32m     <a href='file:///Users/aaron/miniforge3/envs/torch4arm/lib/python3.9/site-packages/torchvision/ops/boxes.py?line=65'>66</a>\u001b[0m     \u001b[39mreturn\u001b[39;00m _batched_nms_vanilla(boxes, scores, idxs, iou_threshold)\n\u001b[1;32m     <a href='file:///Users/aaron/miniforge3/envs/torch4arm/lib/python3.9/site-packages/torchvision/ops/boxes.py?line=66'>67</a>\u001b[0m \u001b[39melse\u001b[39;00m:\n\u001b[0;32m---> <a href='file:///Users/aaron/miniforge3/envs/torch4arm/lib/python3.9/site-packages/torchvision/ops/boxes.py?line=67'>68</a>\u001b[0m     \u001b[39mreturn\u001b[39;00m _batched_nms_coordinate_trick(boxes, scores, idxs, iou_threshold)\n",
      "File \u001b[0;32m~/miniforge3/envs/torch4arm/lib/python3.9/site-packages/torch/jit/_trace.py:1118\u001b[0m, in \u001b[0;36m_script_if_tracing.<locals>.wrapper\u001b[0;34m(*args, **kwargs)\u001b[0m\n\u001b[1;32m   <a href='file:///Users/aaron/miniforge3/envs/torch4arm/lib/python3.9/site-packages/torch/jit/_trace.py?line=1113'>1114</a>\u001b[0m \u001b[39m@functools\u001b[39m\u001b[39m.\u001b[39mwraps(fn)\n\u001b[1;32m   <a href='file:///Users/aaron/miniforge3/envs/torch4arm/lib/python3.9/site-packages/torch/jit/_trace.py?line=1114'>1115</a>\u001b[0m \u001b[39mdef\u001b[39;00m \u001b[39mwrapper\u001b[39m(\u001b[39m*\u001b[39margs, \u001b[39m*\u001b[39m\u001b[39m*\u001b[39mkwargs):\n\u001b[1;32m   <a href='file:///Users/aaron/miniforge3/envs/torch4arm/lib/python3.9/site-packages/torch/jit/_trace.py?line=1115'>1116</a>\u001b[0m     \u001b[39mif\u001b[39;00m \u001b[39mnot\u001b[39;00m is_tracing():\n\u001b[1;32m   <a href='file:///Users/aaron/miniforge3/envs/torch4arm/lib/python3.9/site-packages/torch/jit/_trace.py?line=1116'>1117</a>\u001b[0m         \u001b[39m# Not tracing, don't do anything\u001b[39;00m\n\u001b[0;32m-> <a href='file:///Users/aaron/miniforge3/envs/torch4arm/lib/python3.9/site-packages/torch/jit/_trace.py?line=1117'>1118</a>\u001b[0m         \u001b[39mreturn\u001b[39;00m fn(\u001b[39m*\u001b[39;49margs, \u001b[39m*\u001b[39;49m\u001b[39m*\u001b[39;49mkwargs)\n\u001b[1;32m   <a href='file:///Users/aaron/miniforge3/envs/torch4arm/lib/python3.9/site-packages/torch/jit/_trace.py?line=1119'>1120</a>\u001b[0m     compiled_fn \u001b[39m=\u001b[39m script(wrapper\u001b[39m.\u001b[39m__original_fn)  \u001b[39m# type: ignore[attr-defined]\u001b[39;00m\n\u001b[1;32m   <a href='file:///Users/aaron/miniforge3/envs/torch4arm/lib/python3.9/site-packages/torch/jit/_trace.py?line=1120'>1121</a>\u001b[0m     \u001b[39mreturn\u001b[39;00m compiled_fn(\u001b[39m*\u001b[39margs, \u001b[39m*\u001b[39m\u001b[39m*\u001b[39mkwargs)\n",
      "File \u001b[0;32m~/miniforge3/envs/torch4arm/lib/python3.9/site-packages/torchvision/ops/boxes.py:87\u001b[0m, in \u001b[0;36m_batched_nms_coordinate_trick\u001b[0;34m(boxes, scores, idxs, iou_threshold)\u001b[0m\n\u001b[1;32m     <a href='file:///Users/aaron/miniforge3/envs/torch4arm/lib/python3.9/site-packages/torchvision/ops/boxes.py?line=84'>85</a>\u001b[0m offsets \u001b[39m=\u001b[39m idxs\u001b[39m.\u001b[39mto(boxes) \u001b[39m*\u001b[39m (max_coordinate \u001b[39m+\u001b[39m torch\u001b[39m.\u001b[39mtensor(\u001b[39m1\u001b[39m)\u001b[39m.\u001b[39mto(boxes))\n\u001b[1;32m     <a href='file:///Users/aaron/miniforge3/envs/torch4arm/lib/python3.9/site-packages/torchvision/ops/boxes.py?line=85'>86</a>\u001b[0m boxes_for_nms \u001b[39m=\u001b[39m boxes \u001b[39m+\u001b[39m offsets[:, \u001b[39mNone\u001b[39;00m]\n\u001b[0;32m---> <a href='file:///Users/aaron/miniforge3/envs/torch4arm/lib/python3.9/site-packages/torchvision/ops/boxes.py?line=86'>87</a>\u001b[0m keep \u001b[39m=\u001b[39m nms(boxes_for_nms, scores, iou_threshold)\n\u001b[1;32m     <a href='file:///Users/aaron/miniforge3/envs/torch4arm/lib/python3.9/site-packages/torchvision/ops/boxes.py?line=87'>88</a>\u001b[0m \u001b[39mreturn\u001b[39;00m keep\n",
      "File \u001b[0;32m~/miniforge3/envs/torch4arm/lib/python3.9/site-packages/torchvision/ops/boxes.py:34\u001b[0m, in \u001b[0;36mnms\u001b[0;34m(boxes, scores, iou_threshold)\u001b[0m\n\u001b[1;32m      <a href='file:///Users/aaron/miniforge3/envs/torch4arm/lib/python3.9/site-packages/torchvision/ops/boxes.py?line=8'>9</a>\u001b[0m \u001b[39mdef\u001b[39;00m \u001b[39mnms\u001b[39m(boxes: Tensor, scores: Tensor, iou_threshold: \u001b[39mfloat\u001b[39m) \u001b[39m-\u001b[39m\u001b[39m>\u001b[39m Tensor:\n\u001b[1;32m     <a href='file:///Users/aaron/miniforge3/envs/torch4arm/lib/python3.9/site-packages/torchvision/ops/boxes.py?line=9'>10</a>\u001b[0m     \u001b[39m\"\"\"\u001b[39;00m\n\u001b[1;32m     <a href='file:///Users/aaron/miniforge3/envs/torch4arm/lib/python3.9/site-packages/torchvision/ops/boxes.py?line=10'>11</a>\u001b[0m \u001b[39m    Performs non-maximum suppression (NMS) on the boxes according\u001b[39;00m\n\u001b[1;32m     <a href='file:///Users/aaron/miniforge3/envs/torch4arm/lib/python3.9/site-packages/torchvision/ops/boxes.py?line=11'>12</a>\u001b[0m \u001b[39m    to their intersection-over-union (IoU).\u001b[39;00m\n\u001b[0;32m   (...)\u001b[0m\n\u001b[1;32m     <a href='file:///Users/aaron/miniforge3/envs/torch4arm/lib/python3.9/site-packages/torchvision/ops/boxes.py?line=31'>32</a>\u001b[0m \u001b[39m        by NMS, sorted in decreasing order of scores\u001b[39;00m\n\u001b[1;32m     <a href='file:///Users/aaron/miniforge3/envs/torch4arm/lib/python3.9/site-packages/torchvision/ops/boxes.py?line=32'>33</a>\u001b[0m \u001b[39m    \"\"\"\u001b[39;00m\n\u001b[0;32m---> <a href='file:///Users/aaron/miniforge3/envs/torch4arm/lib/python3.9/site-packages/torchvision/ops/boxes.py?line=33'>34</a>\u001b[0m     _assert_has_ops()\n\u001b[1;32m     <a href='file:///Users/aaron/miniforge3/envs/torch4arm/lib/python3.9/site-packages/torchvision/ops/boxes.py?line=34'>35</a>\u001b[0m     \u001b[39mreturn\u001b[39;00m torch\u001b[39m.\u001b[39mops\u001b[39m.\u001b[39mtorchvision\u001b[39m.\u001b[39mnms(boxes, scores, iou_threshold)\n",
      "File \u001b[0;32m~/miniforge3/envs/torch4arm/lib/python3.9/site-packages/torchvision/extension.py:62\u001b[0m, in \u001b[0;36m_assert_has_ops\u001b[0;34m()\u001b[0m\n\u001b[1;32m     <a href='file:///Users/aaron/miniforge3/envs/torch4arm/lib/python3.9/site-packages/torchvision/extension.py?line=59'>60</a>\u001b[0m \u001b[39mdef\u001b[39;00m \u001b[39m_assert_has_ops\u001b[39m():\n\u001b[1;32m     <a href='file:///Users/aaron/miniforge3/envs/torch4arm/lib/python3.9/site-packages/torchvision/extension.py?line=60'>61</a>\u001b[0m     \u001b[39mif\u001b[39;00m \u001b[39mnot\u001b[39;00m _has_ops():\n\u001b[0;32m---> <a href='file:///Users/aaron/miniforge3/envs/torch4arm/lib/python3.9/site-packages/torchvision/extension.py?line=61'>62</a>\u001b[0m         \u001b[39mraise\u001b[39;00m \u001b[39mRuntimeError\u001b[39;00m(\n\u001b[1;32m     <a href='file:///Users/aaron/miniforge3/envs/torch4arm/lib/python3.9/site-packages/torchvision/extension.py?line=62'>63</a>\u001b[0m             \u001b[39m\"\u001b[39m\u001b[39mCouldn\u001b[39m\u001b[39m'\u001b[39m\u001b[39mt load custom C++ ops. This can happen if your PyTorch and \u001b[39m\u001b[39m\"\u001b[39m\n\u001b[1;32m     <a href='file:///Users/aaron/miniforge3/envs/torch4arm/lib/python3.9/site-packages/torchvision/extension.py?line=63'>64</a>\u001b[0m             \u001b[39m\"\u001b[39m\u001b[39mtorchvision versions are incompatible, or if you had errors while compiling \u001b[39m\u001b[39m\"\u001b[39m\n\u001b[1;32m     <a href='file:///Users/aaron/miniforge3/envs/torch4arm/lib/python3.9/site-packages/torchvision/extension.py?line=64'>65</a>\u001b[0m             \u001b[39m\"\u001b[39m\u001b[39mtorchvision from source. For further information on the compatible versions, check \u001b[39m\u001b[39m\"\u001b[39m\n\u001b[1;32m     <a href='file:///Users/aaron/miniforge3/envs/torch4arm/lib/python3.9/site-packages/torchvision/extension.py?line=65'>66</a>\u001b[0m             \u001b[39m\"\u001b[39m\u001b[39mhttps://github.com/pytorch/vision#installation for the compatibility matrix. \u001b[39m\u001b[39m\"\u001b[39m\n\u001b[1;32m     <a href='file:///Users/aaron/miniforge3/envs/torch4arm/lib/python3.9/site-packages/torchvision/extension.py?line=66'>67</a>\u001b[0m             \u001b[39m\"\u001b[39m\u001b[39mPlease check your PyTorch version with torch.__version__ and your torchvision \u001b[39m\u001b[39m\"\u001b[39m\n\u001b[1;32m     <a href='file:///Users/aaron/miniforge3/envs/torch4arm/lib/python3.9/site-packages/torchvision/extension.py?line=67'>68</a>\u001b[0m             \u001b[39m\"\u001b[39m\u001b[39mversion with torchvision.__version__ and verify if they are compatible, and if not \u001b[39m\u001b[39m\"\u001b[39m\n\u001b[1;32m     <a href='file:///Users/aaron/miniforge3/envs/torch4arm/lib/python3.9/site-packages/torchvision/extension.py?line=68'>69</a>\u001b[0m             \u001b[39m\"\u001b[39m\u001b[39mplease reinstall torchvision so that it matches your PyTorch install.\u001b[39m\u001b[39m\"\u001b[39m\n\u001b[1;32m     <a href='file:///Users/aaron/miniforge3/envs/torch4arm/lib/python3.9/site-packages/torchvision/extension.py?line=69'>70</a>\u001b[0m         )\n",
      "\u001b[0;31mRuntimeError\u001b[0m: Couldn't load custom C++ ops. This can happen if your PyTorch and torchvision versions are incompatible, or if you had errors while compiling torchvision from source. For further information on the compatible versions, check https://github.com/pytorch/vision#installation for the compatibility matrix. Please check your PyTorch version with torch.__version__ and your torchvision version with torchvision.__version__ and verify if they are compatible, and if not please reinstall torchvision so that it matches your PyTorch install."
     ]
    },
    {
     "data": {
      "image/png": "[encoded data removed]",
      "text/plain": [
       "<Figure size 1296x720 with 6 Axes>"
      ]
     },
     "metadata": {
      "needs_background": "light"
     },
     "output_type": "display_data"
    }
   ],
   "source": [
    "plot_example()"
   ]
  },
  {
   "cell_type": "markdown",
   "metadata": {},
   "source": [
    "### Create the new dataset"
   ]
  },
  {
   "cell_type": "markdown",
   "metadata": {},
   "source": [
    "Create a new folder where we'll store the face images:"
   ]
  },
  {
   "cell_type": "code",
   "execution_count": 16,
   "metadata": {},
   "outputs": [],
   "source": [
    "!rm -rf ../data/faces/real"
   ]
  },
  {
   "cell_type": "code",
   "execution_count": 42,
   "metadata": {},
   "outputs": [],
   "source": [
    "# !rm -rf ../data/faces"
   ]
  },
  {
   "cell_type": "code",
   "execution_count": 17,
   "metadata": {},
   "outputs": [],
   "source": [
    "# os.mkdir(FACES_FOLDER)\n",
    "os.mkdir(FACES_REAL)\n",
    "# os.mkdir(FACES_FAKE)"
   ]
  },
  {
   "cell_type": "code",
   "execution_count": 18,
   "metadata": {},
   "outputs": [
    {
     "name": "stdout",
     "output_type": "stream",
     "text": [
      "faces.csv \u001b[1m\u001b[36mfake\u001b[m\u001b[m      \u001b[1m\u001b[36mreal\u001b[m\u001b[m\n"
     ]
    }
   ],
   "source": [
    "!ls ../data/faces"
   ]
  },
  {
   "cell_type": "markdown",
   "metadata": {},
   "source": [
    "Function to store the face images:"
   ]
  },
  {
   "cell_type": "code",
   "execution_count": 19,
   "metadata": {},
   "outputs": [],
   "source": [
    "def get_face_name_from_video_name(video_name):\n",
    "    \"\"\"Get the face name from the video name\"\"\"\n",
    "    img_name = video_name.split(\".mp4\")[0] # Remove the .mp4 extension\n",
    "    return img_name + \"_face.png\" # Add the _face.png extension"
   ]
  },
  {
   "cell_type": "code",
   "execution_count": 23,
   "metadata": {},
   "outputs": [],
   "source": [
    "def save_frame(fake_frame, video_name, faces_folder):\n",
    "    fake_frame = cv2.cvtColor(fake_frame, cv2.COLOR_BGR2RGB) # BGR -> RGB\n",
    "\n",
    "    frame = Image.fromarray(fake_frame)\n",
    "    face = mtcnn(frame) # extract the face from the frame\n",
    "\n",
    "    # if the face is not found on the image, we do not save it\n",
    "    if face is None: return\n",
    "\n",
    "    # (CHANNELS, HEIGHT, WIDTH) -> (HEIGHT, WIDTH, CHANNELS)\n",
    "    face = face.permute(1, 2, 0)\n",
    "    # face is a tensor where the pixel values are float32 values\n",
    "    # -> move it to the CPU, convert it to int values and then to a numpy array \n",
    "    face = face.cpu().detach().numpy().astype(np.uint8)\n",
    "\n",
    "    # Save the face\n",
    "    img_name = get_face_name_from_video_name(video_name)\n",
    "    Image.fromarray(face).save(os.path.join(faces_folder, img_name))"
   ]
  },
  {
   "cell_type": "code",
   "execution_count": 24,
   "metadata": {},
   "outputs": [],
   "source": [
    "def save_face(videos_folder, videos_names, faces_folder, is_real=None):\n",
    "    \"\"\"Save the face of the video in the faces_folder\"\"\"\n",
    "    for i in range(len(videos_names)):\n",
    "        fake_video = cv2.VideoCapture(\n",
    "            os.path.join(videos_folder, videos_names[i]\n",
    "        ))\n",
    "\n",
    "        # get a frame every 30 frames of fake_video only if is_real is True\n",
    "        # otherwise, get a frame every frame of fake_video\n",
    "        while fake_video.isOpened():\n",
    "            if is_real is True:\n",
    "                count = 0\n",
    "                ret, real_frame = fake_video.read()\n",
    "                if ret is True:\n",
    "                    # the name has to be different for each frame\n",
    "                    save_frame(real_frame, f\"{videos_names[i]}_f{count}\", faces_folder)\n",
    "\n",
    "                    count += 30 # i.e. at 30 fps, this advances one second\n",
    "                    real_frame.set(cv2.CAP_PROP_POS_FRAMES, count)\n",
    "                else:\n",
    "                    real_frame.release()\n",
    "                    break\n",
    "            else:\n",
    "                ret, fake_frame = fake_video.read() # Get the first frame\n",
    "                if ret is True:\n",
    "                    save_frame(fake_frame, videos_names[i], faces_folder)\n",
    "                else:\n",
    "                    fake_frame.release()\n",
    "                    break"
   ]
  },
  {
   "cell_type": "code",
   "execution_count": 26,
   "metadata": {},
   "outputs": [
    {
     "ename": "RuntimeError",
     "evalue": "Couldn't load custom C++ ops. This can happen if your PyTorch and torchvision versions are incompatible, or if you had errors while compiling torchvision from source. For further information on the compatible versions, check https://github.com/pytorch/vision#installation for the compatibility matrix. Please check your PyTorch version with torch.__version__ and your torchvision version with torchvision.__version__ and verify if they are compatible, and if not please reinstall torchvision so that it matches your PyTorch install.",
     "output_type": "error",
     "traceback": [
      "\u001b[0;31m---------------------------------------------------------------------------\u001b[0m",
      "\u001b[0;31mRuntimeError\u001b[0m                              Traceback (most recent call last)",
      "\u001b[1;32m/Users/aaron/Documents/github/deepfake-detection/dataset/create_face_dataset.ipynb Cell 30'\u001b[0m in \u001b[0;36m<module>\u001b[0;34m\u001b[0m\n\u001b[1;32m      <a href='vscode-notebook-cell:/Users/aaron/Documents/github/deepfake-detection/dataset/create_face_dataset.ipynb#ch0000029?line=0'>1</a>\u001b[0m \u001b[39m# Store the faces of the real videos:\u001b[39;00m\n\u001b[0;32m----> <a href='vscode-notebook-cell:/Users/aaron/Documents/github/deepfake-detection/dataset/create_face_dataset.ipynb#ch0000029?line=1'>2</a>\u001b[0m save_face(ORIGINAL_VIDEOS_FOLDER, ORIGINAL_VIDEOS, FACES_REAL, is_real\u001b[39m=\u001b[39;49m\u001b[39mTrue\u001b[39;49;00m)\n",
      "\u001b[1;32m/Users/aaron/Documents/github/deepfake-detection/dataset/create_face_dataset.ipynb Cell 29'\u001b[0m in \u001b[0;36msave_face\u001b[0;34m(videos_folder, videos_names, faces_folder, is_real)\u001b[0m\n\u001b[1;32m     <a href='vscode-notebook-cell:/Users/aaron/Documents/github/deepfake-detection/dataset/create_face_dataset.ipynb#ch0000028?line=12'>13</a>\u001b[0m ret, real_frame \u001b[39m=\u001b[39m fake_video\u001b[39m.\u001b[39mread()\n\u001b[1;32m     <a href='vscode-notebook-cell:/Users/aaron/Documents/github/deepfake-detection/dataset/create_face_dataset.ipynb#ch0000028?line=13'>14</a>\u001b[0m \u001b[39mif\u001b[39;00m ret \u001b[39mis\u001b[39;00m \u001b[39mTrue\u001b[39;00m:\n\u001b[1;32m     <a href='vscode-notebook-cell:/Users/aaron/Documents/github/deepfake-detection/dataset/create_face_dataset.ipynb#ch0000028?line=14'>15</a>\u001b[0m     \u001b[39m# the name has to be different for each frame\u001b[39;00m\n\u001b[0;32m---> <a href='vscode-notebook-cell:/Users/aaron/Documents/github/deepfake-detection/dataset/create_face_dataset.ipynb#ch0000028?line=15'>16</a>\u001b[0m     save_frame(real_frame, \u001b[39mf\u001b[39;49m\u001b[39m\"\u001b[39;49m\u001b[39m{\u001b[39;49;00mvideos_names[i]\u001b[39m}\u001b[39;49;00m\u001b[39m_f\u001b[39;49m\u001b[39m{\u001b[39;49;00mcount\u001b[39m}\u001b[39;49;00m\u001b[39m\"\u001b[39;49m, faces_folder)\n\u001b[1;32m     <a href='vscode-notebook-cell:/Users/aaron/Documents/github/deepfake-detection/dataset/create_face_dataset.ipynb#ch0000028?line=17'>18</a>\u001b[0m     count \u001b[39m+\u001b[39m\u001b[39m=\u001b[39m \u001b[39m30\u001b[39m \u001b[39m# i.e. at 30 fps, this advances one second\u001b[39;00m\n\u001b[1;32m     <a href='vscode-notebook-cell:/Users/aaron/Documents/github/deepfake-detection/dataset/create_face_dataset.ipynb#ch0000028?line=18'>19</a>\u001b[0m     real_frame\u001b[39m.\u001b[39mset(cv2\u001b[39m.\u001b[39mCAP_PROP_POS_FRAMES, count)\n",
      "\u001b[1;32m/Users/aaron/Documents/github/deepfake-detection/dataset/create_face_dataset.ipynb Cell 28'\u001b[0m in \u001b[0;36msave_frame\u001b[0;34m(fake_frame, video_name, faces_folder)\u001b[0m\n\u001b[1;32m      <a href='vscode-notebook-cell:/Users/aaron/Documents/github/deepfake-detection/dataset/create_face_dataset.ipynb#ch0000027?line=1'>2</a>\u001b[0m fake_frame \u001b[39m=\u001b[39m cv2\u001b[39m.\u001b[39mcvtColor(fake_frame, cv2\u001b[39m.\u001b[39mCOLOR_BGR2RGB) \u001b[39m# BGR -> RGB\u001b[39;00m\n\u001b[1;32m      <a href='vscode-notebook-cell:/Users/aaron/Documents/github/deepfake-detection/dataset/create_face_dataset.ipynb#ch0000027?line=3'>4</a>\u001b[0m frame \u001b[39m=\u001b[39m Image\u001b[39m.\u001b[39mfromarray(fake_frame)\n\u001b[0;32m----> <a href='vscode-notebook-cell:/Users/aaron/Documents/github/deepfake-detection/dataset/create_face_dataset.ipynb#ch0000027?line=4'>5</a>\u001b[0m face \u001b[39m=\u001b[39m mtcnn(frame) \u001b[39m# extract the face from the frame\u001b[39;00m\n\u001b[1;32m      <a href='vscode-notebook-cell:/Users/aaron/Documents/github/deepfake-detection/dataset/create_face_dataset.ipynb#ch0000027?line=6'>7</a>\u001b[0m \u001b[39m# if the face is not found on the image, we do not save it\u001b[39;00m\n\u001b[1;32m      <a href='vscode-notebook-cell:/Users/aaron/Documents/github/deepfake-detection/dataset/create_face_dataset.ipynb#ch0000027?line=7'>8</a>\u001b[0m \u001b[39mif\u001b[39;00m face \u001b[39mis\u001b[39;00m \u001b[39mNone\u001b[39;00m: \u001b[39mreturn\u001b[39;00m\n",
      "File \u001b[0;32m~/miniforge3/envs/torch4arm/lib/python3.9/site-packages/torch/nn/modules/module.py:1102\u001b[0m, in \u001b[0;36mModule._call_impl\u001b[0;34m(self, *input, **kwargs)\u001b[0m\n\u001b[1;32m   <a href='file:///Users/aaron/miniforge3/envs/torch4arm/lib/python3.9/site-packages/torch/nn/modules/module.py?line=1097'>1098</a>\u001b[0m \u001b[39m# If we don't have any hooks, we want to skip the rest of the logic in\u001b[39;00m\n\u001b[1;32m   <a href='file:///Users/aaron/miniforge3/envs/torch4arm/lib/python3.9/site-packages/torch/nn/modules/module.py?line=1098'>1099</a>\u001b[0m \u001b[39m# this function, and just call forward.\u001b[39;00m\n\u001b[1;32m   <a href='file:///Users/aaron/miniforge3/envs/torch4arm/lib/python3.9/site-packages/torch/nn/modules/module.py?line=1099'>1100</a>\u001b[0m \u001b[39mif\u001b[39;00m \u001b[39mnot\u001b[39;00m (\u001b[39mself\u001b[39m\u001b[39m.\u001b[39m_backward_hooks \u001b[39mor\u001b[39;00m \u001b[39mself\u001b[39m\u001b[39m.\u001b[39m_forward_hooks \u001b[39mor\u001b[39;00m \u001b[39mself\u001b[39m\u001b[39m.\u001b[39m_forward_pre_hooks \u001b[39mor\u001b[39;00m _global_backward_hooks\n\u001b[1;32m   <a href='file:///Users/aaron/miniforge3/envs/torch4arm/lib/python3.9/site-packages/torch/nn/modules/module.py?line=1100'>1101</a>\u001b[0m         \u001b[39mor\u001b[39;00m _global_forward_hooks \u001b[39mor\u001b[39;00m _global_forward_pre_hooks):\n\u001b[0;32m-> <a href='file:///Users/aaron/miniforge3/envs/torch4arm/lib/python3.9/site-packages/torch/nn/modules/module.py?line=1101'>1102</a>\u001b[0m     \u001b[39mreturn\u001b[39;00m forward_call(\u001b[39m*\u001b[39;49m\u001b[39minput\u001b[39;49m, \u001b[39m*\u001b[39;49m\u001b[39m*\u001b[39;49mkwargs)\n\u001b[1;32m   <a href='file:///Users/aaron/miniforge3/envs/torch4arm/lib/python3.9/site-packages/torch/nn/modules/module.py?line=1102'>1103</a>\u001b[0m \u001b[39m# Do not call functions when jit is used\u001b[39;00m\n\u001b[1;32m   <a href='file:///Users/aaron/miniforge3/envs/torch4arm/lib/python3.9/site-packages/torch/nn/modules/module.py?line=1103'>1104</a>\u001b[0m full_backward_hooks, non_full_backward_hooks \u001b[39m=\u001b[39m [], []\n",
      "File \u001b[0;32m~/miniforge3/envs/torch4arm/lib/python3.9/site-packages/facenet_pytorch/models/mtcnn.py:258\u001b[0m, in \u001b[0;36mMTCNN.forward\u001b[0;34m(self, img, save_path, return_prob)\u001b[0m\n\u001b[1;32m    <a href='file:///Users/aaron/miniforge3/envs/torch4arm/lib/python3.9/site-packages/facenet_pytorch/models/mtcnn.py?line=226'>227</a>\u001b[0m \u001b[39m\"\"\"Run MTCNN face detection on a PIL image or numpy array. This method performs both\u001b[39;00m\n\u001b[1;32m    <a href='file:///Users/aaron/miniforge3/envs/torch4arm/lib/python3.9/site-packages/facenet_pytorch/models/mtcnn.py?line=227'>228</a>\u001b[0m \u001b[39mdetection and extraction of faces, returning tensors representing detected faces rather\u001b[39;00m\n\u001b[1;32m    <a href='file:///Users/aaron/miniforge3/envs/torch4arm/lib/python3.9/site-packages/facenet_pytorch/models/mtcnn.py?line=228'>229</a>\u001b[0m \u001b[39mthan the bounding boxes. To access bounding boxes, see the MTCNN.detect() method below.\u001b[39;00m\n\u001b[0;32m   (...)\u001b[0m\n\u001b[1;32m    <a href='file:///Users/aaron/miniforge3/envs/torch4arm/lib/python3.9/site-packages/facenet_pytorch/models/mtcnn.py?line=253'>254</a>\u001b[0m \u001b[39m>>> face_tensor, prob = mtcnn(img, save_path='face.png', return_prob=True)\u001b[39;00m\n\u001b[1;32m    <a href='file:///Users/aaron/miniforge3/envs/torch4arm/lib/python3.9/site-packages/facenet_pytorch/models/mtcnn.py?line=254'>255</a>\u001b[0m \u001b[39m\"\"\"\u001b[39;00m\n\u001b[1;32m    <a href='file:///Users/aaron/miniforge3/envs/torch4arm/lib/python3.9/site-packages/facenet_pytorch/models/mtcnn.py?line=256'>257</a>\u001b[0m \u001b[39m# Detect faces\u001b[39;00m\n\u001b[0;32m--> <a href='file:///Users/aaron/miniforge3/envs/torch4arm/lib/python3.9/site-packages/facenet_pytorch/models/mtcnn.py?line=257'>258</a>\u001b[0m batch_boxes, batch_probs, batch_points \u001b[39m=\u001b[39m \u001b[39mself\u001b[39;49m\u001b[39m.\u001b[39;49mdetect(img, landmarks\u001b[39m=\u001b[39;49m\u001b[39mTrue\u001b[39;49;00m)\n\u001b[1;32m    <a href='file:///Users/aaron/miniforge3/envs/torch4arm/lib/python3.9/site-packages/facenet_pytorch/models/mtcnn.py?line=258'>259</a>\u001b[0m \u001b[39m# Select faces\u001b[39;00m\n\u001b[1;32m    <a href='file:///Users/aaron/miniforge3/envs/torch4arm/lib/python3.9/site-packages/facenet_pytorch/models/mtcnn.py?line=259'>260</a>\u001b[0m \u001b[39mif\u001b[39;00m \u001b[39mnot\u001b[39;00m \u001b[39mself\u001b[39m\u001b[39m.\u001b[39mkeep_all:\n",
      "File \u001b[0;32m~/miniforge3/envs/torch4arm/lib/python3.9/site-packages/facenet_pytorch/models/mtcnn.py:313\u001b[0m, in \u001b[0;36mMTCNN.detect\u001b[0;34m(self, img, landmarks)\u001b[0m\n\u001b[1;32m    <a href='file:///Users/aaron/miniforge3/envs/torch4arm/lib/python3.9/site-packages/facenet_pytorch/models/mtcnn.py?line=272'>273</a>\u001b[0m \u001b[39m\"\"\"Detect all faces in PIL image and return bounding boxes and optional facial landmarks.\u001b[39;00m\n\u001b[1;32m    <a href='file:///Users/aaron/miniforge3/envs/torch4arm/lib/python3.9/site-packages/facenet_pytorch/models/mtcnn.py?line=273'>274</a>\u001b[0m \n\u001b[1;32m    <a href='file:///Users/aaron/miniforge3/envs/torch4arm/lib/python3.9/site-packages/facenet_pytorch/models/mtcnn.py?line=274'>275</a>\u001b[0m \u001b[39mThis method is used by the forward method and is also useful for face detection tasks\u001b[39;00m\n\u001b[0;32m   (...)\u001b[0m\n\u001b[1;32m    <a href='file:///Users/aaron/miniforge3/envs/torch4arm/lib/python3.9/site-packages/facenet_pytorch/models/mtcnn.py?line=308'>309</a>\u001b[0m \u001b[39m>>> img_draw.save('annotated_faces.png')\u001b[39;00m\n\u001b[1;32m    <a href='file:///Users/aaron/miniforge3/envs/torch4arm/lib/python3.9/site-packages/facenet_pytorch/models/mtcnn.py?line=309'>310</a>\u001b[0m \u001b[39m\"\"\"\u001b[39;00m\n\u001b[1;32m    <a href='file:///Users/aaron/miniforge3/envs/torch4arm/lib/python3.9/site-packages/facenet_pytorch/models/mtcnn.py?line=311'>312</a>\u001b[0m \u001b[39mwith\u001b[39;00m torch\u001b[39m.\u001b[39mno_grad():\n\u001b[0;32m--> <a href='file:///Users/aaron/miniforge3/envs/torch4arm/lib/python3.9/site-packages/facenet_pytorch/models/mtcnn.py?line=312'>313</a>\u001b[0m     batch_boxes, batch_points \u001b[39m=\u001b[39m detect_face(\n\u001b[1;32m    <a href='file:///Users/aaron/miniforge3/envs/torch4arm/lib/python3.9/site-packages/facenet_pytorch/models/mtcnn.py?line=313'>314</a>\u001b[0m         img, \u001b[39mself\u001b[39;49m\u001b[39m.\u001b[39;49mmin_face_size,\n\u001b[1;32m    <a href='file:///Users/aaron/miniforge3/envs/torch4arm/lib/python3.9/site-packages/facenet_pytorch/models/mtcnn.py?line=314'>315</a>\u001b[0m         \u001b[39mself\u001b[39;49m\u001b[39m.\u001b[39;49mpnet, \u001b[39mself\u001b[39;49m\u001b[39m.\u001b[39;49mrnet, \u001b[39mself\u001b[39;49m\u001b[39m.\u001b[39;49monet,\n\u001b[1;32m    <a href='file:///Users/aaron/miniforge3/envs/torch4arm/lib/python3.9/site-packages/facenet_pytorch/models/mtcnn.py?line=315'>316</a>\u001b[0m         \u001b[39mself\u001b[39;49m\u001b[39m.\u001b[39;49mthresholds, \u001b[39mself\u001b[39;49m\u001b[39m.\u001b[39;49mfactor,\n\u001b[1;32m    <a href='file:///Users/aaron/miniforge3/envs/torch4arm/lib/python3.9/site-packages/facenet_pytorch/models/mtcnn.py?line=316'>317</a>\u001b[0m         \u001b[39mself\u001b[39;49m\u001b[39m.\u001b[39;49mdevice\n\u001b[1;32m    <a href='file:///Users/aaron/miniforge3/envs/torch4arm/lib/python3.9/site-packages/facenet_pytorch/models/mtcnn.py?line=317'>318</a>\u001b[0m     )\n\u001b[1;32m    <a href='file:///Users/aaron/miniforge3/envs/torch4arm/lib/python3.9/site-packages/facenet_pytorch/models/mtcnn.py?line=319'>320</a>\u001b[0m boxes, probs, points \u001b[39m=\u001b[39m [], [], []\n\u001b[1;32m    <a href='file:///Users/aaron/miniforge3/envs/torch4arm/lib/python3.9/site-packages/facenet_pytorch/models/mtcnn.py?line=320'>321</a>\u001b[0m \u001b[39mfor\u001b[39;00m box, point \u001b[39min\u001b[39;00m \u001b[39mzip\u001b[39m(batch_boxes, batch_points):\n",
      "File \u001b[0;32m~/miniforge3/envs/torch4arm/lib/python3.9/site-packages/facenet_pytorch/models/utils/detect_face.py:79\u001b[0m, in \u001b[0;36mdetect_face\u001b[0;34m(imgs, minsize, pnet, rnet, onet, threshold, factor, device)\u001b[0m\n\u001b[1;32m     <a href='file:///Users/aaron/miniforge3/envs/torch4arm/lib/python3.9/site-packages/facenet_pytorch/models/utils/detect_face.py?line=75'>76</a>\u001b[0m boxes\u001b[39m.\u001b[39mappend(boxes_scale)\n\u001b[1;32m     <a href='file:///Users/aaron/miniforge3/envs/torch4arm/lib/python3.9/site-packages/facenet_pytorch/models/utils/detect_face.py?line=76'>77</a>\u001b[0m image_inds\u001b[39m.\u001b[39mappend(image_inds_scale)\n\u001b[0;32m---> <a href='file:///Users/aaron/miniforge3/envs/torch4arm/lib/python3.9/site-packages/facenet_pytorch/models/utils/detect_face.py?line=78'>79</a>\u001b[0m pick \u001b[39m=\u001b[39m batched_nms(boxes_scale[:, :\u001b[39m4\u001b[39;49m], boxes_scale[:, \u001b[39m4\u001b[39;49m], image_inds_scale, \u001b[39m0.5\u001b[39;49m)\n\u001b[1;32m     <a href='file:///Users/aaron/miniforge3/envs/torch4arm/lib/python3.9/site-packages/facenet_pytorch/models/utils/detect_face.py?line=79'>80</a>\u001b[0m scale_picks\u001b[39m.\u001b[39mappend(pick \u001b[39m+\u001b[39m offset)\n\u001b[1;32m     <a href='file:///Users/aaron/miniforge3/envs/torch4arm/lib/python3.9/site-packages/facenet_pytorch/models/utils/detect_face.py?line=80'>81</a>\u001b[0m offset \u001b[39m+\u001b[39m\u001b[39m=\u001b[39m boxes_scale\u001b[39m.\u001b[39mshape[\u001b[39m0\u001b[39m]\n",
      "File \u001b[0;32m~/miniforge3/envs/torch4arm/lib/python3.9/site-packages/torchvision/ops/boxes.py:68\u001b[0m, in \u001b[0;36mbatched_nms\u001b[0;34m(boxes, scores, idxs, iou_threshold)\u001b[0m\n\u001b[1;32m     <a href='file:///Users/aaron/miniforge3/envs/torch4arm/lib/python3.9/site-packages/torchvision/ops/boxes.py?line=65'>66</a>\u001b[0m     \u001b[39mreturn\u001b[39;00m _batched_nms_vanilla(boxes, scores, idxs, iou_threshold)\n\u001b[1;32m     <a href='file:///Users/aaron/miniforge3/envs/torch4arm/lib/python3.9/site-packages/torchvision/ops/boxes.py?line=66'>67</a>\u001b[0m \u001b[39melse\u001b[39;00m:\n\u001b[0;32m---> <a href='file:///Users/aaron/miniforge3/envs/torch4arm/lib/python3.9/site-packages/torchvision/ops/boxes.py?line=67'>68</a>\u001b[0m     \u001b[39mreturn\u001b[39;00m _batched_nms_coordinate_trick(boxes, scores, idxs, iou_threshold)\n",
      "File \u001b[0;32m~/miniforge3/envs/torch4arm/lib/python3.9/site-packages/torch/jit/_trace.py:1118\u001b[0m, in \u001b[0;36m_script_if_tracing.<locals>.wrapper\u001b[0;34m(*args, **kwargs)\u001b[0m\n\u001b[1;32m   <a href='file:///Users/aaron/miniforge3/envs/torch4arm/lib/python3.9/site-packages/torch/jit/_trace.py?line=1113'>1114</a>\u001b[0m \u001b[39m@functools\u001b[39m\u001b[39m.\u001b[39mwraps(fn)\n\u001b[1;32m   <a href='file:///Users/aaron/miniforge3/envs/torch4arm/lib/python3.9/site-packages/torch/jit/_trace.py?line=1114'>1115</a>\u001b[0m \u001b[39mdef\u001b[39;00m \u001b[39mwrapper\u001b[39m(\u001b[39m*\u001b[39margs, \u001b[39m*\u001b[39m\u001b[39m*\u001b[39mkwargs):\n\u001b[1;32m   <a href='file:///Users/aaron/miniforge3/envs/torch4arm/lib/python3.9/site-packages/torch/jit/_trace.py?line=1115'>1116</a>\u001b[0m     \u001b[39mif\u001b[39;00m \u001b[39mnot\u001b[39;00m is_tracing():\n\u001b[1;32m   <a href='file:///Users/aaron/miniforge3/envs/torch4arm/lib/python3.9/site-packages/torch/jit/_trace.py?line=1116'>1117</a>\u001b[0m         \u001b[39m# Not tracing, don't do anything\u001b[39;00m\n\u001b[0;32m-> <a href='file:///Users/aaron/miniforge3/envs/torch4arm/lib/python3.9/site-packages/torch/jit/_trace.py?line=1117'>1118</a>\u001b[0m         \u001b[39mreturn\u001b[39;00m fn(\u001b[39m*\u001b[39;49margs, \u001b[39m*\u001b[39;49m\u001b[39m*\u001b[39;49mkwargs)\n\u001b[1;32m   <a href='file:///Users/aaron/miniforge3/envs/torch4arm/lib/python3.9/site-packages/torch/jit/_trace.py?line=1119'>1120</a>\u001b[0m     compiled_fn \u001b[39m=\u001b[39m script(wrapper\u001b[39m.\u001b[39m__original_fn)  \u001b[39m# type: ignore[attr-defined]\u001b[39;00m\n\u001b[1;32m   <a href='file:///Users/aaron/miniforge3/envs/torch4arm/lib/python3.9/site-packages/torch/jit/_trace.py?line=1120'>1121</a>\u001b[0m     \u001b[39mreturn\u001b[39;00m compiled_fn(\u001b[39m*\u001b[39margs, \u001b[39m*\u001b[39m\u001b[39m*\u001b[39mkwargs)\n",
      "File \u001b[0;32m~/miniforge3/envs/torch4arm/lib/python3.9/site-packages/torchvision/ops/boxes.py:87\u001b[0m, in \u001b[0;36m_batched_nms_coordinate_trick\u001b[0;34m(boxes, scores, idxs, iou_threshold)\u001b[0m\n\u001b[1;32m     <a href='file:///Users/aaron/miniforge3/envs/torch4arm/lib/python3.9/site-packages/torchvision/ops/boxes.py?line=84'>85</a>\u001b[0m offsets \u001b[39m=\u001b[39m idxs\u001b[39m.\u001b[39mto(boxes) \u001b[39m*\u001b[39m (max_coordinate \u001b[39m+\u001b[39m torch\u001b[39m.\u001b[39mtensor(\u001b[39m1\u001b[39m)\u001b[39m.\u001b[39mto(boxes))\n\u001b[1;32m     <a href='file:///Users/aaron/miniforge3/envs/torch4arm/lib/python3.9/site-packages/torchvision/ops/boxes.py?line=85'>86</a>\u001b[0m boxes_for_nms \u001b[39m=\u001b[39m boxes \u001b[39m+\u001b[39m offsets[:, \u001b[39mNone\u001b[39;00m]\n\u001b[0;32m---> <a href='file:///Users/aaron/miniforge3/envs/torch4arm/lib/python3.9/site-packages/torchvision/ops/boxes.py?line=86'>87</a>\u001b[0m keep \u001b[39m=\u001b[39m nms(boxes_for_nms, scores, iou_threshold)\n\u001b[1;32m     <a href='file:///Users/aaron/miniforge3/envs/torch4arm/lib/python3.9/site-packages/torchvision/ops/boxes.py?line=87'>88</a>\u001b[0m \u001b[39mreturn\u001b[39;00m keep\n",
      "File \u001b[0;32m~/miniforge3/envs/torch4arm/lib/python3.9/site-packages/torchvision/ops/boxes.py:34\u001b[0m, in \u001b[0;36mnms\u001b[0;34m(boxes, scores, iou_threshold)\u001b[0m\n\u001b[1;32m      <a href='file:///Users/aaron/miniforge3/envs/torch4arm/lib/python3.9/site-packages/torchvision/ops/boxes.py?line=8'>9</a>\u001b[0m \u001b[39mdef\u001b[39;00m \u001b[39mnms\u001b[39m(boxes: Tensor, scores: Tensor, iou_threshold: \u001b[39mfloat\u001b[39m) \u001b[39m-\u001b[39m\u001b[39m>\u001b[39m Tensor:\n\u001b[1;32m     <a href='file:///Users/aaron/miniforge3/envs/torch4arm/lib/python3.9/site-packages/torchvision/ops/boxes.py?line=9'>10</a>\u001b[0m     \u001b[39m\"\"\"\u001b[39;00m\n\u001b[1;32m     <a href='file:///Users/aaron/miniforge3/envs/torch4arm/lib/python3.9/site-packages/torchvision/ops/boxes.py?line=10'>11</a>\u001b[0m \u001b[39m    Performs non-maximum suppression (NMS) on the boxes according\u001b[39;00m\n\u001b[1;32m     <a href='file:///Users/aaron/miniforge3/envs/torch4arm/lib/python3.9/site-packages/torchvision/ops/boxes.py?line=11'>12</a>\u001b[0m \u001b[39m    to their intersection-over-union (IoU).\u001b[39;00m\n\u001b[0;32m   (...)\u001b[0m\n\u001b[1;32m     <a href='file:///Users/aaron/miniforge3/envs/torch4arm/lib/python3.9/site-packages/torchvision/ops/boxes.py?line=31'>32</a>\u001b[0m \u001b[39m        by NMS, sorted in decreasing order of scores\u001b[39;00m\n\u001b[1;32m     <a href='file:///Users/aaron/miniforge3/envs/torch4arm/lib/python3.9/site-packages/torchvision/ops/boxes.py?line=32'>33</a>\u001b[0m \u001b[39m    \"\"\"\u001b[39;00m\n\u001b[0;32m---> <a href='file:///Users/aaron/miniforge3/envs/torch4arm/lib/python3.9/site-packages/torchvision/ops/boxes.py?line=33'>34</a>\u001b[0m     _assert_has_ops()\n\u001b[1;32m     <a href='file:///Users/aaron/miniforge3/envs/torch4arm/lib/python3.9/site-packages/torchvision/ops/boxes.py?line=34'>35</a>\u001b[0m     \u001b[39mreturn\u001b[39;00m torch\u001b[39m.\u001b[39mops\u001b[39m.\u001b[39mtorchvision\u001b[39m.\u001b[39mnms(boxes, scores, iou_threshold)\n",
      "File \u001b[0;32m~/miniforge3/envs/torch4arm/lib/python3.9/site-packages/torchvision/extension.py:62\u001b[0m, in \u001b[0;36m_assert_has_ops\u001b[0;34m()\u001b[0m\n\u001b[1;32m     <a href='file:///Users/aaron/miniforge3/envs/torch4arm/lib/python3.9/site-packages/torchvision/extension.py?line=59'>60</a>\u001b[0m \u001b[39mdef\u001b[39;00m \u001b[39m_assert_has_ops\u001b[39m():\n\u001b[1;32m     <a href='file:///Users/aaron/miniforge3/envs/torch4arm/lib/python3.9/site-packages/torchvision/extension.py?line=60'>61</a>\u001b[0m     \u001b[39mif\u001b[39;00m \u001b[39mnot\u001b[39;00m _has_ops():\n\u001b[0;32m---> <a href='file:///Users/aaron/miniforge3/envs/torch4arm/lib/python3.9/site-packages/torchvision/extension.py?line=61'>62</a>\u001b[0m         \u001b[39mraise\u001b[39;00m \u001b[39mRuntimeError\u001b[39;00m(\n\u001b[1;32m     <a href='file:///Users/aaron/miniforge3/envs/torch4arm/lib/python3.9/site-packages/torchvision/extension.py?line=62'>63</a>\u001b[0m             \u001b[39m\"\u001b[39m\u001b[39mCouldn\u001b[39m\u001b[39m'\u001b[39m\u001b[39mt load custom C++ ops. This can happen if your PyTorch and \u001b[39m\u001b[39m\"\u001b[39m\n\u001b[1;32m     <a href='file:///Users/aaron/miniforge3/envs/torch4arm/lib/python3.9/site-packages/torchvision/extension.py?line=63'>64</a>\u001b[0m             \u001b[39m\"\u001b[39m\u001b[39mtorchvision versions are incompatible, or if you had errors while compiling \u001b[39m\u001b[39m\"\u001b[39m\n\u001b[1;32m     <a href='file:///Users/aaron/miniforge3/envs/torch4arm/lib/python3.9/site-packages/torchvision/extension.py?line=64'>65</a>\u001b[0m             \u001b[39m\"\u001b[39m\u001b[39mtorchvision from source. For further information on the compatible versions, check \u001b[39m\u001b[39m\"\u001b[39m\n\u001b[1;32m     <a href='file:///Users/aaron/miniforge3/envs/torch4arm/lib/python3.9/site-packages/torchvision/extension.py?line=65'>66</a>\u001b[0m             \u001b[39m\"\u001b[39m\u001b[39mhttps://github.com/pytorch/vision#installation for the compatibility matrix. \u001b[39m\u001b[39m\"\u001b[39m\n\u001b[1;32m     <a href='file:///Users/aaron/miniforge3/envs/torch4arm/lib/python3.9/site-packages/torchvision/extension.py?line=66'>67</a>\u001b[0m             \u001b[39m\"\u001b[39m\u001b[39mPlease check your PyTorch version with torch.__version__ and your torchvision \u001b[39m\u001b[39m\"\u001b[39m\n\u001b[1;32m     <a href='file:///Users/aaron/miniforge3/envs/torch4arm/lib/python3.9/site-packages/torchvision/extension.py?line=67'>68</a>\u001b[0m             \u001b[39m\"\u001b[39m\u001b[39mversion with torchvision.__version__ and verify if they are compatible, and if not \u001b[39m\u001b[39m\"\u001b[39m\n\u001b[1;32m     <a href='file:///Users/aaron/miniforge3/envs/torch4arm/lib/python3.9/site-packages/torchvision/extension.py?line=68'>69</a>\u001b[0m             \u001b[39m\"\u001b[39m\u001b[39mplease reinstall torchvision so that it matches your PyTorch install.\u001b[39m\u001b[39m\"\u001b[39m\n\u001b[1;32m     <a href='file:///Users/aaron/miniforge3/envs/torch4arm/lib/python3.9/site-packages/torchvision/extension.py?line=69'>70</a>\u001b[0m         )\n",
      "\u001b[0;31mRuntimeError\u001b[0m: Couldn't load custom C++ ops. This can happen if your PyTorch and torchvision versions are incompatible, or if you had errors while compiling torchvision from source. For further information on the compatible versions, check https://github.com/pytorch/vision#installation for the compatibility matrix. Please check your PyTorch version with torch.__version__ and your torchvision version with torchvision.__version__ and verify if they are compatible, and if not please reinstall torchvision so that it matches your PyTorch install."
     ]
    }
   ],
   "source": [
    "# Store the faces of the real videos:\n",
    "save_face(ORIGINAL_VIDEOS_FOLDER, ORIGINAL_VIDEOS, FACES_REAL, is_real=True)\n",
    "# Store the faces of the fake videos:\n",
    "# save_face(FAKE_VIDEOS_FOLDER, FAKE_VIDEOS, FACES_FAKE, is_real=False)"
   ]
  },
  {
   "cell_type": "markdown",
   "metadata": {},
   "source": [
    "### Save the images names with their label as a csv file"
   ]
  },
  {
   "cell_type": "code",
   "execution_count": 26,
   "metadata": {},
   "outputs": [],
   "source": [
    "real_faces = os.listdir(FACES_REAL)\n",
    "real_faces = np.array(list(zip(real_faces, [\"real\"]*len(real_faces))))\n",
    "fake_faces = os.listdir(FACES_FAKE)\n",
    "fake_faces = np.array(list(zip(fake_faces, [\"fake\"]*len(fake_faces))))\n",
    "\n",
    "faces = np.concatenate((real_faces, fake_faces))\n",
    "\n",
    "# shuffle the data\n",
    "np.random.shuffle(faces)"
   ]
  },
  {
   "cell_type": "code",
   "execution_count": 27,
   "metadata": {},
   "outputs": [],
   "source": [
    "df = pd.DataFrame(faces, columns=[\"name\", \"label\"])"
   ]
  },
  {
   "cell_type": "code",
   "execution_count": 30,
   "metadata": {},
   "outputs": [
    {
     "data": {
      "text/html": [
       "<div>\n",
       "<style scoped>\n",
       "    .dataframe tbody tr th:only-of-type {\n",
       "        vertical-align: middle;\n",
       "    }\n",
       "\n",
       "    .dataframe tbody tr th {\n",
       "        vertical-align: top;\n",
       "    }\n",
       "\n",
       "    .dataframe thead th {\n",
       "        text-align: right;\n",
       "    }\n",
       "</style>\n",
       "<table border=\"1\" class=\"dataframe\">\n",
       "  <thead>\n",
       "    <tr style=\"text-align: right;\">\n",
       "      <th></th>\n",
       "      <th>name</th>\n",
       "      <th>label</th>\n",
       "    </tr>\n",
       "  </thead>\n",
       "  <tbody>\n",
       "    <tr>\n",
       "      <th>0</th>\n",
       "      <td>12_06__talking_against_wall__0VR4Y891_face.png</td>\n",
       "      <td>fake</td>\n",
       "    </tr>\n",
       "    <tr>\n",
       "      <th>1</th>\n",
       "      <td>23_19__walking_outside_cafe_disgusted__WHQ1229...</td>\n",
       "      <td>fake</td>\n",
       "    </tr>\n",
       "    <tr>\n",
       "      <th>2</th>\n",
       "      <td>03_18__walking_and_outside_surprised__22UBC0BS...</td>\n",
       "      <td>fake</td>\n",
       "    </tr>\n",
       "    <tr>\n",
       "      <th>3</th>\n",
       "      <td>23_24__kitchen_pan__YR5OVD4S_face.png</td>\n",
       "      <td>fake</td>\n",
       "    </tr>\n",
       "    <tr>\n",
       "      <th>4</th>\n",
       "      <td>06_25__outside_talking_still_laughing__MI9BDQ7...</td>\n",
       "      <td>fake</td>\n",
       "    </tr>\n",
       "    <tr>\n",
       "      <th>5</th>\n",
       "      <td>13_02__secret_conversation__PLNVLO74_face.png</td>\n",
       "      <td>fake</td>\n",
       "    </tr>\n",
       "    <tr>\n",
       "      <th>6</th>\n",
       "      <td>24_19__podium_speech_happy__OF8LF68K_face.png</td>\n",
       "      <td>fake</td>\n",
       "    </tr>\n",
       "    <tr>\n",
       "      <th>7</th>\n",
       "      <td>27_02__hugging_happy__UGO2181S_face.png</td>\n",
       "      <td>fake</td>\n",
       "    </tr>\n",
       "    <tr>\n",
       "      <th>8</th>\n",
       "      <td>20_14__podium_speech_happy__B014BKVO_face.png</td>\n",
       "      <td>fake</td>\n",
       "    </tr>\n",
       "    <tr>\n",
       "      <th>9</th>\n",
       "      <td>12_07__walking_and_outside_surprised__0VN0A2T3...</td>\n",
       "      <td>fake</td>\n",
       "    </tr>\n",
       "    <tr>\n",
       "      <th>10</th>\n",
       "      <td>07_03__talking_angry_couch__WPT3Z2KN_face.png</td>\n",
       "      <td>fake</td>\n",
       "    </tr>\n",
       "    <tr>\n",
       "      <th>11</th>\n",
       "      <td>04_21__talking_against_wall__NRI4PHWP_face.png</td>\n",
       "      <td>fake</td>\n",
       "    </tr>\n",
       "    <tr>\n",
       "      <th>12</th>\n",
       "      <td>03_07__hugging_happy__BKLOCI1M_face.png</td>\n",
       "      <td>fake</td>\n",
       "    </tr>\n",
       "    <tr>\n",
       "      <th>13</th>\n",
       "      <td>21_02__outside_talking_still_laughing__Z0XHPQA...</td>\n",
       "      <td>fake</td>\n",
       "    </tr>\n",
       "    <tr>\n",
       "      <th>14</th>\n",
       "      <td>14_20__exit_phone_room__B014BKVO_face.png</td>\n",
       "      <td>fake</td>\n",
       "    </tr>\n",
       "    <tr>\n",
       "      <th>15</th>\n",
       "      <td>20_14__hugging_happy__B014BKVO_face.png</td>\n",
       "      <td>fake</td>\n",
       "    </tr>\n",
       "    <tr>\n",
       "      <th>16</th>\n",
       "      <td>03_14__walking_down_street_outside_angry__H0VQ...</td>\n",
       "      <td>fake</td>\n",
       "    </tr>\n",
       "    <tr>\n",
       "      <th>17</th>\n",
       "      <td>01_27__outside_talking_pan_laughing__S2YCUY48_...</td>\n",
       "      <td>fake</td>\n",
       "    </tr>\n",
       "    <tr>\n",
       "      <th>18</th>\n",
       "      <td>03_07__walking_and_outside_surprised__IFSURI9X...</td>\n",
       "      <td>fake</td>\n",
       "    </tr>\n",
       "    <tr>\n",
       "      <th>19</th>\n",
       "      <td>07_03__kitchen_pan__PWXXULHR_face.png</td>\n",
       "      <td>fake</td>\n",
       "    </tr>\n",
       "    <tr>\n",
       "      <th>20</th>\n",
       "      <td>07_03__podium_speech_happy__IFSURI9X_face.png</td>\n",
       "      <td>fake</td>\n",
       "    </tr>\n",
       "    <tr>\n",
       "      <th>21</th>\n",
       "      <td>14_13__walking_outside_cafe_disgusted__KMQ3AW6...</td>\n",
       "      <td>fake</td>\n",
       "    </tr>\n",
       "    <tr>\n",
       "      <th>22</th>\n",
       "      <td>21_07__walking_down_indoor_hall_disgust__MKU99...</td>\n",
       "      <td>fake</td>\n",
       "    </tr>\n",
       "    <tr>\n",
       "      <th>23</th>\n",
       "      <td>06_12__outside_talking_pan_laughing__3K21NFNM_...</td>\n",
       "      <td>fake</td>\n",
       "    </tr>\n",
       "    <tr>\n",
       "      <th>24</th>\n",
       "      <td>07_03__hugging_happy__IFSURI9X_face.png</td>\n",
       "      <td>fake</td>\n",
       "    </tr>\n",
       "    <tr>\n",
       "      <th>25</th>\n",
       "      <td>27__podium_speech_happy_face.png</td>\n",
       "      <td>real</td>\n",
       "    </tr>\n",
       "    <tr>\n",
       "      <th>26</th>\n",
       "      <td>15_02__outside_talking_pan_laughing__I8G2LWD1_...</td>\n",
       "      <td>fake</td>\n",
       "    </tr>\n",
       "    <tr>\n",
       "      <th>27</th>\n",
       "      <td>20_26__podium_speech_happy__1UEDQ3GY_face.png</td>\n",
       "      <td>fake</td>\n",
       "    </tr>\n",
       "    <tr>\n",
       "      <th>28</th>\n",
       "      <td>13_25__hugging_happy__7YMTAF29_face.png</td>\n",
       "      <td>fake</td>\n",
       "    </tr>\n",
       "    <tr>\n",
       "      <th>29</th>\n",
       "      <td>03_15__kitchen_pan__5C1OMK8W_face.png</td>\n",
       "      <td>fake</td>\n",
       "    </tr>\n",
       "  </tbody>\n",
       "</table>\n",
       "</div>"
      ],
      "text/plain": [
       "                                                 name label\n",
       "0      12_06__talking_against_wall__0VR4Y891_face.png  fake\n",
       "1   23_19__walking_outside_cafe_disgusted__WHQ1229...  fake\n",
       "2   03_18__walking_and_outside_surprised__22UBC0BS...  fake\n",
       "3               23_24__kitchen_pan__YR5OVD4S_face.png  fake\n",
       "4   06_25__outside_talking_still_laughing__MI9BDQ7...  fake\n",
       "5       13_02__secret_conversation__PLNVLO74_face.png  fake\n",
       "6       24_19__podium_speech_happy__OF8LF68K_face.png  fake\n",
       "7             27_02__hugging_happy__UGO2181S_face.png  fake\n",
       "8       20_14__podium_speech_happy__B014BKVO_face.png  fake\n",
       "9   12_07__walking_and_outside_surprised__0VN0A2T3...  fake\n",
       "10      07_03__talking_angry_couch__WPT3Z2KN_face.png  fake\n",
       "11     04_21__talking_against_wall__NRI4PHWP_face.png  fake\n",
       "12            03_07__hugging_happy__BKLOCI1M_face.png  fake\n",
       "13  21_02__outside_talking_still_laughing__Z0XHPQA...  fake\n",
       "14          14_20__exit_phone_room__B014BKVO_face.png  fake\n",
       "15            20_14__hugging_happy__B014BKVO_face.png  fake\n",
       "16  03_14__walking_down_street_outside_angry__H0VQ...  fake\n",
       "17  01_27__outside_talking_pan_laughing__S2YCUY48_...  fake\n",
       "18  03_07__walking_and_outside_surprised__IFSURI9X...  fake\n",
       "19              07_03__kitchen_pan__PWXXULHR_face.png  fake\n",
       "20      07_03__podium_speech_happy__IFSURI9X_face.png  fake\n",
       "21  14_13__walking_outside_cafe_disgusted__KMQ3AW6...  fake\n",
       "22  21_07__walking_down_indoor_hall_disgust__MKU99...  fake\n",
       "23  06_12__outside_talking_pan_laughing__3K21NFNM_...  fake\n",
       "24            07_03__hugging_happy__IFSURI9X_face.png  fake\n",
       "25                   27__podium_speech_happy_face.png  real\n",
       "26  15_02__outside_talking_pan_laughing__I8G2LWD1_...  fake\n",
       "27      20_26__podium_speech_happy__1UEDQ3GY_face.png  fake\n",
       "28            13_25__hugging_happy__7YMTAF29_face.png  fake\n",
       "29              03_15__kitchen_pan__5C1OMK8W_face.png  fake"
      ]
     },
     "execution_count": 30,
     "metadata": {},
     "output_type": "execute_result"
    }
   ],
   "source": [
    "df.head(30)"
   ]
  },
  {
   "cell_type": "code",
   "execution_count": 29,
   "metadata": {},
   "outputs": [],
   "source": [
    "df.to_csv(os.path.join(FACES_FOLDER, \"faces.csv\"))"
   ]
  }
 ],
 "metadata": {
  "interpreter": {
   "hash": "70876cdcfe169b991766b3b6fc1c26dc5a770678ea7f06db3355d725f5c5506d"
  },
  "kernelspec": {
   "display_name": "Python 3.9.7 ('torch4arm')",
   "language": "python",
   "name": "python3"
  },
  "language_info": {
   "codemirror_mode": {
    "name": "ipython",
    "version": 3
   },
   "file_extension": ".py",
   "mimetype": "text/x-python",
   "name": "python",
   "nbconvert_exporter": "python",
   "pygments_lexer": "ipython3",
   "version": "3.9.7"
  },
  "orig_nbformat": 4
 },
 "nbformat": 4,
 "nbformat_minor": 2
}
