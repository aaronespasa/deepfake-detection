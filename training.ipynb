{
 "cells": [
  {
   "cell_type": "markdown",
   "metadata": {},
   "source": [
    "# Train a Vision Transformer using Transfer Learning"
   ]
  },
  {
   "cell_type": "code",
   "execution_count": 22,
   "metadata": {},
   "outputs": [],
   "source": [
    "import os\n",
    "import torch\n",
    "import torch.utils.data as data_utils\n",
    "from torch import nn\n",
    "from torch import optim\n",
    "from facenet_pytorch import InceptionResnetV1\n",
    "from tqdm import tqdm\n",
    "from random import randint\n",
    "import matplotlib.pyplot as plt\n",
    "from utils.denormalize_image import denormalize_image\n",
    "from utils.metrics import get_accuracy\n",
    "from utils.dict_to_struct import DictStructure\n",
    "from dataset.faces import Faces"
   ]
  },
  {
   "cell_type": "code",
   "execution_count": 3,
   "metadata": {},
   "outputs": [
    {
     "name": "stdout",
     "output_type": "stream",
     "text": [
      "Running on device: CUDA:0\n"
     ]
    }
   ],
   "source": [
    "DEVICE = 'cuda:0' if torch.cuda.is_available() else 'cpu'\n",
    "print(f'Running on device: {DEVICE.upper()}')"
   ]
  },
  {
   "cell_type": "code",
   "execution_count": 4,
   "metadata": {},
   "outputs": [],
   "source": [
    "%%capture\n",
    "!pip install wandb --upgrade"
   ]
  },
  {
   "cell_type": "code",
   "execution_count": 5,
   "metadata": {},
   "outputs": [
    {
     "name": "stderr",
     "output_type": "stream",
     "text": [
      "\u001b[34m\u001b[1mwandb\u001b[0m: Currently logged in as: \u001b[33maaronespasa\u001b[0m. Use \u001b[1m`wandb login --relogin`\u001b[0m to force relogin\n"
     ]
    },
    {
     "data": {
      "text/plain": [
       "True"
      ]
     },
     "execution_count": 5,
     "metadata": {},
     "output_type": "execute_result"
    }
   ],
   "source": [
    "import wandb\n",
    "wandb.login()"
   ]
  },
  {
   "cell_type": "code",
   "execution_count": 6,
   "metadata": {},
   "outputs": [
    {
     "data": {
      "text/html": [
       "Tracking run with wandb version 0.12.17"
      ],
      "text/plain": [
       "<IPython.core.display.HTML object>"
      ]
     },
     "metadata": {},
     "output_type": "display_data"
    },
    {
     "data": {
      "text/html": [
       "Run data is saved locally in <code>/home/espasa/Documents/github/deepfake-detection/wandb/run-20220531_084650-1yknoopw</code>"
      ],
      "text/plain": [
       "<IPython.core.display.HTML object>"
      ]
     },
     "metadata": {},
     "output_type": "display_data"
    },
    {
     "data": {
      "text/html": [
       "Syncing run <strong><a href=\"https://wandb.ai/aaronespasa/deepfake-detection/runs/1yknoopw\" target=\"_blank\">volcanic-deluge-7</a></strong> to <a href=\"https://wandb.ai/aaronespasa/deepfake-detection\" target=\"_blank\">Weights & Biases</a> (<a href=\"https://wandb.me/run\" target=\"_blank\">docs</a>)<br/>"
      ],
      "text/plain": [
       "<IPython.core.display.HTML object>"
      ]
     },
     "metadata": {},
     "output_type": "display_data"
    },
    {
     "data": {
      "text/html": [
       "<button onClick=\"this.nextSibling.style.display='block';this.style.display='none';\">Display W&B run</button><iframe src=\"https://wandb.ai/aaronespasa/deepfake-detection/runs/1yknoopw?jupyter=true\" style=\"border:none;width:100%;height:420px;display:none;\"></iframe>"
      ],
      "text/plain": [
       "<wandb.sdk.wandb_run.Run at 0x7feeccc91760>"
      ]
     },
     "execution_count": 6,
     "metadata": {},
     "output_type": "execute_result"
    }
   ],
   "source": [
    "wandb.init(project=\"deepfake-detection\")"
   ]
  },
  {
   "cell_type": "markdown",
   "metadata": {},
   "source": [
    "### Track metadata & Hyperparameters"
   ]
  },
  {
   "cell_type": "code",
   "execution_count": 7,
   "metadata": {},
   "outputs": [],
   "source": [
    "config = dict(\n",
    "    epochs=10,\n",
    "    save_every=2, # save the model every 2 epochs\n",
    "    classes=1, # binary classification\n",
    "    batch_size=32,\n",
    "    learning_rate=0.001,\n",
    "    dataset=\"FaceForensics++\",\n",
    "    architecture=\"InceptionResNetV1\",\n",
    "    pretrained_dataset=\"vggface2\"\n",
    ")"
   ]
  },
  {
   "cell_type": "markdown",
   "metadata": {},
   "source": [
    "### Constants"
   ]
  },
  {
   "cell_type": "code",
   "execution_count": 8,
   "metadata": {},
   "outputs": [],
   "source": [
    "FACES_FOLDER = os.path.join(\"data\", \"faces\")\n",
    "FACES_CSV = os.path.join(FACES_FOLDER, \"faces.csv\")\n",
    "VALIDATION_SPLIT = 0.2\n",
    "CLASS_NAMES = {0: \"real\", 1: \"fake\"}"
   ]
  },
  {
   "cell_type": "markdown",
   "metadata": {},
   "source": [
    "### Create the Data Loaders, the model, the criterion & the optimizer"
   ]
  },
  {
   "cell_type": "code",
   "execution_count": 9,
   "metadata": {},
   "outputs": [],
   "source": [
    "def make(config):\n",
    "    \"\"\"Create the dataloaders, the model, the criterion & the optimizer\"\"\"\n",
    "    if isinstance(config, wandb.Config):\n",
    "        print(\"Using the configuration from wandb.config\")\n",
    "    elif isinstance(config, dict):\n",
    "        print(\"Not using the configuration from wandb.config\")\n",
    "        config = DictStructure(config)\n",
    "    else:\n",
    "        raise ValueError(\"config must be a wandb.Config or a dict\")\n",
    "\n",
    "    # Make the data\n",
    "    train_dataset = get_data(split=\"training\", transform=True, print_ds_len=True)\n",
    "    val_dataset = get_data(split=\"validation\", transform=True, print_ds_len=False)\n",
    "    train_loader = make_loader(train_dataset, batch_size=config.batch_size)\n",
    "    val_loader = make_loader(val_dataset, batch_size=config.batch_size)\n",
    "    \n",
    "    # Make the model\n",
    "    model = InceptionResnetV1(\n",
    "        pretrained=config.pretrained_dataset,\n",
    "        classify=True,\n",
    "        num_classes=config.classes,\n",
    "        device=DEVICE\n",
    "    )\n",
    "\n",
    "    # Make the loss and optimizer\n",
    "    criterion = nn.BCEWithLogitsLoss() # sigmoid + binary cross entropy\n",
    "    optimizer = optim.Adam(model.parameters(), lr=config.learning_rate)\n",
    "    \n",
    "    return model, train_loader, val_loader, criterion, optimizer"
   ]
  },
  {
   "cell_type": "markdown",
   "metadata": {},
   "source": [
    "### Data Preparation"
   ]
  },
  {
   "cell_type": "code",
   "execution_count": 10,
   "metadata": {},
   "outputs": [],
   "source": [
    "def get_data(split:str=\"training\", transform:bool=True, print_ds_len:bool=None):\n",
    "    \"\"\"Get the dataset.\n",
    "    \n",
    "    Args:\n",
    "        split (str): Split of the dataset to use: 'training' or 'validation'\n",
    "        transform (bool, optional): Perform transformations on the data or not\n",
    "        print_ds_len (bool, optional): Print the length of the original dataset\n",
    "    \"\"\"\n",
    "    # Check that the arguments are as expected\n",
    "    assert split in [\"training\", \"validation\"], \"Split must be 'training' or 'validation'\"\n",
    "    assert transform in [True, False], \"Transform must be True or False\"\n",
    "    \n",
    "    # Create the dataset\n",
    "    full_dataset = Faces(root=FACES_FOLDER, csv=FACES_CSV, split=split, transform=transform)\n",
    "    if print_ds_len: print(f\"Original dataset length: {len(full_dataset)}\")\n",
    "\n",
    "    # Set where the subsets should start and end\n",
    "    end_idx = round((1 - VALIDATION_SPLIT) * len(full_dataset)) if split == 'training' else len(full_dataset)\n",
    "    begin_idx = 0 if split == 'training' else round((1 - VALIDATION_SPLIT) * len(full_dataset))\n",
    "\n",
    "    # Create the subsets\n",
    "    subset_indices = torch.arange(begin_idx, end_idx)\n",
    "    subset_dataset = data_utils.Subset(full_dataset, subset_indices)\n",
    "\n",
    "    print(f\"{split} dataset length ({round(len(subset_dataset) / len(full_dataset), 2)*100}%): {len(subset_dataset)}\")\n",
    "\n",
    "    return subset_dataset"
   ]
  },
  {
   "cell_type": "code",
   "execution_count": 11,
   "metadata": {},
   "outputs": [],
   "source": [
    "def make_loader(dataset, batch_size):\n",
    "    \"\"\"Create the Data Loader for the dataset.\"\"\"\n",
    "    loader = data_utils.DataLoader(\n",
    "        dataset=dataset,\n",
    "        batch_size=batch_size,\n",
    "        shuffle=True,\n",
    "        pin_memory=True,\n",
    "        num_workers=2\n",
    "    )\n",
    "    return loader"
   ]
  },
  {
   "cell_type": "code",
   "execution_count": 12,
   "metadata": {},
   "outputs": [],
   "source": [
    "def plot_examples(training_dataset:data_utils.Subset, validation_dataset:data_utils.Subset):\n",
    "    \"\"\"Plot some examples of both datasets in subplots\"\"\"\n",
    "    fig, (ax1, ax2) = plt.subplots(1, 2)\n",
    "\n",
    "    train_image, train_label = training_dataset[randint(0, len(training_dataset)-1)]\n",
    "    val_image, val_label = validation_dataset[randint(0, len(validation_dataset)-1)]\n",
    "    train_image, val_image = denormalize_image(train_image), denormalize_image(val_image)\n",
    "\n",
    "    ax1.set_title(f\"Training ({CLASS_NAMES[train_label.int().item()]})\")\n",
    "    ax1.imshow(train_image)\n",
    "    ax2.set_title(f\"Validation ({CLASS_NAMES[val_label.int().item()]})\")\n",
    "    ax2.imshow(val_image)\n",
    "    plt.show()"
   ]
  },
  {
   "cell_type": "code",
   "execution_count": 14,
   "metadata": {},
   "outputs": [
    {
     "name": "stdout",
     "output_type": "stream",
     "text": [
      "Original dataset length: 8267\n",
      "training dataset length (80.0%): 6614\n",
      "validation dataset length (20.0%): 1653\n"
     ]
    },
    {
     "data": {
      "image/png": "[encoded data removed]",
      "text/plain": [
       "<Figure size 432x288 with 2 Axes>"
      ]
     },
     "metadata": {
      "needs_background": "light"
     },
     "output_type": "display_data"
    }
   ],
   "source": [
    "train_dataset = get_data(split=\"training\", transform=True, print_ds_len=True)\n",
    "val_dataset = get_data(split=\"validation\", transform=True, print_ds_len=False)\n",
    "plot_examples(train_dataset, val_dataset)"
   ]
  },
  {
   "cell_type": "markdown",
   "metadata": {},
   "source": [
    "## Training"
   ]
  },
  {
   "cell_type": "code",
   "execution_count": 15,
   "metadata": {},
   "outputs": [],
   "source": [
    "def train_batch(images, labels, model, criterion, split=\"training\", optimizer=None):\n",
    "    \"\"\"Train a batch of data.\"\"\"\n",
    "    if split == \"training\": assert optimizer is not None, \"Optimizer must be provided for training\"\n",
    "    assert split in [\"training\", \"validation\"], \"Split must be 'training' or 'validation'\"\n",
    "\n",
    "    images = images.to(device=DEVICE)\n",
    "    labels = labels.to(device=DEVICE)\n",
    "\n",
    "    # Forward pass\n",
    "    outputs = model(images).squeeze()\n",
    "\n",
    "    loss = criterion(outputs, labels)\n",
    "    acc = get_accuracy(outputs, labels)\n",
    "\n",
    "    if split == \"training\":\n",
    "        # Backward and optimize\n",
    "        optimizer.zero_grad()\n",
    "        loss.backward()\n",
    "        optimizer.step()\n",
    "\n",
    "    return loss.item(), acc"
   ]
  },
  {
   "cell_type": "markdown",
   "metadata": {},
   "source": [
    "### Overfit a single batch to see if it's learning something"
   ]
  },
  {
   "cell_type": "code",
   "execution_count": 16,
   "metadata": {},
   "outputs": [],
   "source": [
    "def overfit_single_batch():\n",
    "    \"\"\"Train just a batch to see if the model learns anything\"\"\"\n",
    "    model, _, val_loader, criterion, optimizer = make(config)\n",
    "\n",
    "    print(\"Assigning to image & label just one batch of data\")\n",
    "    image, label = None, None\n",
    "    for images, labels in val_loader:\n",
    "        image, label = images, labels\n",
    "        break\n",
    "\n",
    "    image = image.to(device=DEVICE)\n",
    "    label = label.to(device=DEVICE)\n",
    "\n",
    "    print(f\"Image shape: {image.shape}\")\n",
    "    print(f\"First 10 labels: {label[:10]}\")\n",
    "\n",
    "    total_acc = 0\n",
    "    epoch_divisions = 2\n",
    "    num_epochs = epoch_divisions*4\n",
    "    for epoch in range(num_epochs):\n",
    "        loss, acc = train_batch(image, label, model, criterion, \"training\", optimizer)\n",
    "\n",
    "        total_acc += acc\n",
    "\n",
    "        if (epoch + 1) % epoch_divisions == 0:\n",
    "            print(f'Epoch [{epoch + 1}/{num_epochs}], Loss: {loss:.4f}, Acc: {((total_acc/epoch_divisions) * 100):.2f}%')\n",
    "            total_acc = 0\n"
   ]
  },
  {
   "cell_type": "code",
   "execution_count": 17,
   "metadata": {},
   "outputs": [
    {
     "name": "stdout",
     "output_type": "stream",
     "text": [
      "Not using the configuration from wandb.config\n",
      "Original dataset length: 8267\n",
      "training dataset length (80.0%): 6614\n",
      "validation dataset length (20.0%): 1653\n"
     ]
    },
    {
     "name": "stderr",
     "output_type": "stream",
     "text": [
      "100%|██████████| 107M/107M [00:10<00:00, 10.9MB/s] \n"
     ]
    },
    {
     "name": "stdout",
     "output_type": "stream",
     "text": [
      "Assigning to image & label just one batch of data\n",
      "Image shape: torch.Size([32, 3, 256, 256])\n",
      "First 10 labels: tensor([0., 0., 0., 0., 1., 0., 0., 0., 0., 0.], device='cuda:0')\n",
      "Epoch [2/8], Loss: 0.3369, Acc: 76.56%\n",
      "Epoch [4/8], Loss: 0.2687, Acc: 85.94%\n",
      "Epoch [6/8], Loss: 0.0427, Acc: 98.44%\n",
      "Epoch [8/8], Loss: 0.0113, Acc: 98.44%\n"
     ]
    }
   ],
   "source": [
    "overfit_single_batch()"
   ]
  },
  {
   "cell_type": "markdown",
   "metadata": {},
   "source": [
    "As we see in the result below, the loss is decreasing."
   ]
  },
  {
   "cell_type": "markdown",
   "metadata": {},
   "source": [
    "### Train the model"
   ]
  },
  {
   "cell_type": "code",
   "execution_count": 18,
   "metadata": {},
   "outputs": [],
   "source": [
    "def model_pipeline(hyperparameters):\n",
    "    # tell wandb to get started\n",
    "    with wandb.init(project=\"deepfake-detection\", entity=\"aaronespasa\", config=hyperparameters):\n",
    "      # access all HPs through wandb.config, so logging matches execution!\n",
    "      config = wandb.config\n",
    "\n",
    "      # make the model, data, and optimization problem\n",
    "      model, train_loader, val_loader, criterion, optimizer = make(config)\n",
    "\n",
    "      # and use them to train the model\n",
    "      train(model, train_loader, val_loader, criterion, optimizer, config)\n",
    "\n",
    "    return model"
   ]
  },
  {
   "cell_type": "code",
   "execution_count": 19,
   "metadata": {},
   "outputs": [],
   "source": [
    "def save_model(model, optimizer, loss, base_path, epoch):\n",
    "    torch.save({\n",
    "        'epoch': epoch,\n",
    "        'model_state_dict': model.state_dict(),\n",
    "        'optimizer_state_dict': optimizer.state_dict(),\n",
    "        'validation_loss': loss,\n",
    "        },\n",
    "        f\"{base_path}_epoch_{epoch}.pth\"\n",
    "    )"
   ]
  },
  {
   "cell_type": "code",
   "execution_count": 20,
   "metadata": {},
   "outputs": [],
   "source": [
    "def train(model, train_loader, val_loader, criterion, optimizer, config):\n",
    "    \"\"\"Train the model and save the information on Weights and Biases.\"\"\"\n",
    "    print(\"Beginning training 🎨\")\n",
    "    wandb.watch(model, criterion, log=\"all\", log_freq=10)\n",
    "\n",
    "    history = {\n",
    "        \"loss\": {\"train\": [], \"val\": []},\n",
    "        \"acc\": {\"train\": [], \"val\": []}\n",
    "    }\n",
    "    batches_seen = 0\n",
    "    base_path = \"./models/resnetinceptionv1\"\n",
    "\n",
    "    for epoch in range(config.epochs):\n",
    "        # Training\n",
    "        acc_per_epoch_train, loss_per_epoch_train = 0, 0\n",
    "        model.train()\n",
    "        for _, (images_batch, labels_batch) in enumerate(tqdm(train_loader)):\n",
    "            loss, acc = train_batch(images_batch, labels_batch, model, criterion, \"training\", optimizer)\n",
    "\n",
    "            batches_seen += 1\n",
    "            acc_per_epoch_train += acc\n",
    "            loss_per_epoch_train += loss\n",
    "        \n",
    "        # Validation\n",
    "        with torch.no_grad():\n",
    "            acc_per_epoch_val, loss_per_epoch_val = 0, 0\n",
    "            model.eval()\n",
    "            for _, (images_batch, labels_batch) in enumerate(tqdm(val_loader)):\n",
    "                loss, acc = train_batch(images_batch, labels_batch, model, criterion, \"validation\")\n",
    "\n",
    "                acc_per_epoch_val += acc\n",
    "                loss_per_epoch_val += loss\n",
    "\n",
    "        history[\"loss\"][\"train\"].append(loss_per_epoch_train / len(train_loader))\n",
    "        history[\"loss\"][\"val\"].append(loss_per_epoch_val / len(val_loader))\n",
    "        history[\"acc\"][\"train\"].append(acc_per_epoch_train / len(train_loader))\n",
    "        history[\"acc\"][\"val\"].append(acc_per_epoch_val / len(val_loader))\n",
    "\n",
    "        print(f\"Epoch [{epoch + 1}/{config.epochs}]\")\n",
    "        print(f\"\\tTrain Loss: {history['loss']['train'][epoch]:.4f}, Train Acc: {history['acc']['train'][epoch]*100:.2f}%\")\n",
    "        print(f\"\\tVal Loss: {history['loss']['val'][epoch]:.4f}, Val Acc: {history['acc']['val'][epoch]*100:.2f}%\", end=\"\\n\\n\")\n",
    "\n",
    "        wandb.log({\n",
    "            \"Epoch\": epoch + 1,\n",
    "            \"Train Loss\": history[\"loss\"][\"train\"][epoch],\n",
    "            \"Val Loss\": history[\"loss\"][\"val\"][epoch],\n",
    "            \"Train Acc\": round(history[\"acc\"][\"train\"][epoch] * 100, 2),\n",
    "            \"Val Acc\": round(history[\"acc\"][\"val\"][epoch]*100, 2)\n",
    "        }, step=batches_seen)\n",
    "        \n",
    "        if (epoch + 1) % config.save_every == 0:\n",
    "            save_model(model, optimizer, history[\"loss\"][\"val\"][epoch], base_path, epoch + 1)"
   ]
  },
  {
   "cell_type": "code",
   "execution_count": 23,
   "metadata": {},
   "outputs": [
    {
     "data": {
      "text/html": [
       "Tracking run with wandb version 0.12.17"
      ],
      "text/plain": [
       "<IPython.core.display.HTML object>"
      ]
     },
     "metadata": {},
     "output_type": "display_data"
    },
    {
     "data": {
      "text/html": [
       "Run data is saved locally in <code>/home/espasa/Documents/github/deepfake-detection/wandb/run-20220531_085356-2h265dwh</code>"
      ],
      "text/plain": [
       "<IPython.core.display.HTML object>"
      ]
     },
     "metadata": {},
     "output_type": "display_data"
    },
    {
     "data": {
      "text/html": [
       "Syncing run <strong><a href=\"https://wandb.ai/aaronespasa/deepfake-detection/runs/2h265dwh\" target=\"_blank\">wobbly-salad-9</a></strong> to <a href=\"https://wandb.ai/aaronespasa/deepfake-detection\" target=\"_blank\">Weights & Biases</a> (<a href=\"https://wandb.me/run\" target=\"_blank\">docs</a>)<br/>"
      ],
      "text/plain": [
       "<IPython.core.display.HTML object>"
      ]
     },
     "metadata": {},
     "output_type": "display_data"
    },
    {
     "name": "stdout",
     "output_type": "stream",
     "text": [
      "Using the configuration from wandb.config\n",
      "Original dataset length: 8267\n",
      "training dataset length (80.0%): 6614\n",
      "validation dataset length (20.0%): 1653\n",
      "Beginning training 🎨\n"
     ]
    },
    {
     "name": "stderr",
     "output_type": "stream",
     "text": [
      " 19%|█▉        | 39/207 [00:21<01:32,  1.81it/s]\n"
     ]
    },
    {
     "data": {
      "text/html": [
       "Waiting for W&B process to finish... <strong style=\"color:red\">(failed 1).</strong> Press Control-C to abort syncing."
      ],
      "text/plain": [
       "<IPython.core.display.HTML object>"
      ]
     },
     "metadata": {},
     "output_type": "display_data"
    },
    {
     "data": {
      "text/html": [
       "Synced <strong style=\"color:#cdcd00\">wobbly-salad-9</strong>: <a href=\"https://wandb.ai/aaronespasa/deepfake-detection/runs/2h265dwh\" target=\"_blank\">https://wandb.ai/aaronespasa/deepfake-detection/runs/2h265dwh</a><br/>Synced 6 W&B file(s), 0 media file(s), 0 artifact file(s) and 0 other file(s)"
      ],
      "text/plain": [
       "<IPython.core.display.HTML object>"
      ]
     },
     "metadata": {},
     "output_type": "display_data"
    },
    {
     "data": {
      "text/html": [
       "Find logs at: <code>./wandb/run-20220531_085356-2h265dwh/logs</code>"
      ],
      "text/plain": [
       "<IPython.core.display.HTML object>"
      ]
     },
     "metadata": {},
     "output_type": "display_data"
    },
    {
     "ename": "KeyboardInterrupt",
     "evalue": "",
     "output_type": "error",
     "traceback": [
      "\u001b[0;31m---------------------------------------------------------------------------\u001b[0m",
      "\u001b[0;31mKeyboardInterrupt\u001b[0m                         Traceback (most recent call last)",
      "\u001b[1;32m/home/espasa/Documents/github/deepfake-detection/training.ipynb Cell 28'\u001b[0m in \u001b[0;36m<cell line: 1>\u001b[0;34m()\u001b[0m\n\u001b[0;32m----> <a href='vscode-notebook-cell:/home/espasa/Documents/github/deepfake-detection/training.ipynb#ch0000027?line=0'>1</a>\u001b[0m model \u001b[39m=\u001b[39m model_pipeline(config)\n",
      "\u001b[1;32m/home/espasa/Documents/github/deepfake-detection/training.ipynb Cell 25'\u001b[0m in \u001b[0;36mmodel_pipeline\u001b[0;34m(hyperparameters)\u001b[0m\n\u001b[1;32m      <a href='vscode-notebook-cell:/home/espasa/Documents/github/deepfake-detection/training.ipynb#ch0000024?line=7'>8</a>\u001b[0m   model, train_loader, val_loader, criterion, optimizer \u001b[39m=\u001b[39m make(config)\n\u001b[1;32m     <a href='vscode-notebook-cell:/home/espasa/Documents/github/deepfake-detection/training.ipynb#ch0000024?line=9'>10</a>\u001b[0m   \u001b[39m# and use them to train the model\u001b[39;00m\n\u001b[0;32m---> <a href='vscode-notebook-cell:/home/espasa/Documents/github/deepfake-detection/training.ipynb#ch0000024?line=10'>11</a>\u001b[0m   train(model, train_loader, val_loader, criterion, optimizer, config)\n\u001b[1;32m     <a href='vscode-notebook-cell:/home/espasa/Documents/github/deepfake-detection/training.ipynb#ch0000024?line=12'>13</a>\u001b[0m \u001b[39mreturn\u001b[39;00m model\n",
      "\u001b[1;32m/home/espasa/Documents/github/deepfake-detection/training.ipynb Cell 27'\u001b[0m in \u001b[0;36mtrain\u001b[0;34m(model, train_loader, val_loader, criterion, optimizer, config)\u001b[0m\n\u001b[1;32m     <a href='vscode-notebook-cell:/home/espasa/Documents/github/deepfake-detection/training.ipynb#ch0000026?line=15'>16</a>\u001b[0m model\u001b[39m.\u001b[39mtrain()\n\u001b[1;32m     <a href='vscode-notebook-cell:/home/espasa/Documents/github/deepfake-detection/training.ipynb#ch0000026?line=16'>17</a>\u001b[0m \u001b[39mfor\u001b[39;00m _, (images_batch, labels_batch) \u001b[39min\u001b[39;00m \u001b[39menumerate\u001b[39m(tqdm(train_loader)):\n\u001b[0;32m---> <a href='vscode-notebook-cell:/home/espasa/Documents/github/deepfake-detection/training.ipynb#ch0000026?line=17'>18</a>\u001b[0m     loss, acc \u001b[39m=\u001b[39m train_batch(images_batch, labels_batch, model, criterion, \u001b[39m\"\u001b[39;49m\u001b[39mtraining\u001b[39;49m\u001b[39m\"\u001b[39;49m, optimizer)\n\u001b[1;32m     <a href='vscode-notebook-cell:/home/espasa/Documents/github/deepfake-detection/training.ipynb#ch0000026?line=19'>20</a>\u001b[0m     batches_seen \u001b[39m+\u001b[39m\u001b[39m=\u001b[39m \u001b[39m1\u001b[39m\n\u001b[1;32m     <a href='vscode-notebook-cell:/home/espasa/Documents/github/deepfake-detection/training.ipynb#ch0000026?line=20'>21</a>\u001b[0m     acc_per_epoch_train \u001b[39m+\u001b[39m\u001b[39m=\u001b[39m acc\n",
      "\u001b[1;32m/home/espasa/Documents/github/deepfake-detection/training.ipynb Cell 19'\u001b[0m in \u001b[0;36mtrain_batch\u001b[0;34m(images, labels, model, criterion, split, optimizer)\u001b[0m\n\u001b[1;32m     <a href='vscode-notebook-cell:/home/espasa/Documents/github/deepfake-detection/training.ipynb#ch0000018?line=14'>15</a>\u001b[0m \u001b[39mif\u001b[39;00m split \u001b[39m==\u001b[39m \u001b[39m\"\u001b[39m\u001b[39mtraining\u001b[39m\u001b[39m\"\u001b[39m:\n\u001b[1;32m     <a href='vscode-notebook-cell:/home/espasa/Documents/github/deepfake-detection/training.ipynb#ch0000018?line=15'>16</a>\u001b[0m     \u001b[39m# Backward and optimize\u001b[39;00m\n\u001b[1;32m     <a href='vscode-notebook-cell:/home/espasa/Documents/github/deepfake-detection/training.ipynb#ch0000018?line=16'>17</a>\u001b[0m     optimizer\u001b[39m.\u001b[39mzero_grad()\n\u001b[0;32m---> <a href='vscode-notebook-cell:/home/espasa/Documents/github/deepfake-detection/training.ipynb#ch0000018?line=17'>18</a>\u001b[0m     loss\u001b[39m.\u001b[39;49mbackward()\n\u001b[1;32m     <a href='vscode-notebook-cell:/home/espasa/Documents/github/deepfake-detection/training.ipynb#ch0000018?line=18'>19</a>\u001b[0m     optimizer\u001b[39m.\u001b[39mstep()\n\u001b[1;32m     <a href='vscode-notebook-cell:/home/espasa/Documents/github/deepfake-detection/training.ipynb#ch0000018?line=20'>21</a>\u001b[0m \u001b[39mreturn\u001b[39;00m loss\u001b[39m.\u001b[39mitem(), acc\n",
      "File \u001b[0;32m~/anaconda3/envs/pytorch/lib/python3.8/site-packages/torch/_tensor.py:363\u001b[0m, in \u001b[0;36mTensor.backward\u001b[0;34m(self, gradient, retain_graph, create_graph, inputs)\u001b[0m\n\u001b[1;32m    <a href='file:///home/espasa/anaconda3/envs/pytorch/lib/python3.8/site-packages/torch/_tensor.py?line=353'>354</a>\u001b[0m \u001b[39mif\u001b[39;00m has_torch_function_unary(\u001b[39mself\u001b[39m):\n\u001b[1;32m    <a href='file:///home/espasa/anaconda3/envs/pytorch/lib/python3.8/site-packages/torch/_tensor.py?line=354'>355</a>\u001b[0m     \u001b[39mreturn\u001b[39;00m handle_torch_function(\n\u001b[1;32m    <a href='file:///home/espasa/anaconda3/envs/pytorch/lib/python3.8/site-packages/torch/_tensor.py?line=355'>356</a>\u001b[0m         Tensor\u001b[39m.\u001b[39mbackward,\n\u001b[1;32m    <a href='file:///home/espasa/anaconda3/envs/pytorch/lib/python3.8/site-packages/torch/_tensor.py?line=356'>357</a>\u001b[0m         (\u001b[39mself\u001b[39m,),\n\u001b[0;32m   (...)\u001b[0m\n\u001b[1;32m    <a href='file:///home/espasa/anaconda3/envs/pytorch/lib/python3.8/site-packages/torch/_tensor.py?line=360'>361</a>\u001b[0m         create_graph\u001b[39m=\u001b[39mcreate_graph,\n\u001b[1;32m    <a href='file:///home/espasa/anaconda3/envs/pytorch/lib/python3.8/site-packages/torch/_tensor.py?line=361'>362</a>\u001b[0m         inputs\u001b[39m=\u001b[39minputs)\n\u001b[0;32m--> <a href='file:///home/espasa/anaconda3/envs/pytorch/lib/python3.8/site-packages/torch/_tensor.py?line=362'>363</a>\u001b[0m torch\u001b[39m.\u001b[39;49mautograd\u001b[39m.\u001b[39;49mbackward(\u001b[39mself\u001b[39;49m, gradient, retain_graph, create_graph, inputs\u001b[39m=\u001b[39;49minputs)\n",
      "File \u001b[0;32m~/anaconda3/envs/pytorch/lib/python3.8/site-packages/torch/autograd/__init__.py:173\u001b[0m, in \u001b[0;36mbackward\u001b[0;34m(tensors, grad_tensors, retain_graph, create_graph, grad_variables, inputs)\u001b[0m\n\u001b[1;32m    <a href='file:///home/espasa/anaconda3/envs/pytorch/lib/python3.8/site-packages/torch/autograd/__init__.py?line=167'>168</a>\u001b[0m     retain_graph \u001b[39m=\u001b[39m create_graph\n\u001b[1;32m    <a href='file:///home/espasa/anaconda3/envs/pytorch/lib/python3.8/site-packages/torch/autograd/__init__.py?line=169'>170</a>\u001b[0m \u001b[39m# The reason we repeat same the comment below is that\u001b[39;00m\n\u001b[1;32m    <a href='file:///home/espasa/anaconda3/envs/pytorch/lib/python3.8/site-packages/torch/autograd/__init__.py?line=170'>171</a>\u001b[0m \u001b[39m# some Python versions print out the first line of a multi-line function\u001b[39;00m\n\u001b[1;32m    <a href='file:///home/espasa/anaconda3/envs/pytorch/lib/python3.8/site-packages/torch/autograd/__init__.py?line=171'>172</a>\u001b[0m \u001b[39m# calls in the traceback and some print out the last line\u001b[39;00m\n\u001b[0;32m--> <a href='file:///home/espasa/anaconda3/envs/pytorch/lib/python3.8/site-packages/torch/autograd/__init__.py?line=172'>173</a>\u001b[0m Variable\u001b[39m.\u001b[39;49m_execution_engine\u001b[39m.\u001b[39;49mrun_backward(  \u001b[39m# Calls into the C++ engine to run the backward pass\u001b[39;49;00m\n\u001b[1;32m    <a href='file:///home/espasa/anaconda3/envs/pytorch/lib/python3.8/site-packages/torch/autograd/__init__.py?line=173'>174</a>\u001b[0m     tensors, grad_tensors_, retain_graph, create_graph, inputs,\n\u001b[1;32m    <a href='file:///home/espasa/anaconda3/envs/pytorch/lib/python3.8/site-packages/torch/autograd/__init__.py?line=174'>175</a>\u001b[0m     allow_unreachable\u001b[39m=\u001b[39;49m\u001b[39mTrue\u001b[39;49;00m, accumulate_grad\u001b[39m=\u001b[39;49m\u001b[39mTrue\u001b[39;49;00m)\n",
      "\u001b[0;31mKeyboardInterrupt\u001b[0m: "
     ]
    }
   ],
   "source": [
    "model = model_pipeline(config)"
   ]
  },
  {
   "cell_type": "code",
   "execution_count": null,
   "metadata": {},
   "outputs": [],
   "source": []
  }
 ],
 "metadata": {
  "interpreter": {
   "hash": "1df8ca6470716aef7885428a3615d7cfcd80d77664baa0ca314c31299e302aab"
  },
  "kernelspec": {
   "display_name": "Python 3.8.13 ('pytorch')",
   "language": "python",
   "name": "python3"
  },
  "language_info": {
   "codemirror_mode": {
    "name": "ipython",
    "version": 3
   },
   "file_extension": ".py",
   "mimetype": "text/x-python",
   "name": "python",
   "nbconvert_exporter": "python",
   "pygments_lexer": "ipython3",
   "version": "3.8.13"
  }
 },
 "nbformat": 4,
 "nbformat_minor": 4
}
